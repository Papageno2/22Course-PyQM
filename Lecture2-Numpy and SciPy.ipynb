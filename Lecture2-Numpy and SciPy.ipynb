{
 "cells": [
  {
   "cell_type": "markdown",
   "id": "91e9690f",
   "metadata": {
    "tags": []
   },
   "source": [
    "# Lecture 2 NumPy and SciPy"
   ]
  },
  {
   "cell_type": "markdown",
   "id": "884be18e",
   "metadata": {
    "tags": []
   },
   "source": [
    "## [Numpy](https://numpy.org)"
   ]
  },
  {
   "cell_type": "markdown",
   "id": "3625ad83-ddc9-4c87-82e4-2c719015eb9c",
   "metadata": {},
   "source": [
    "`NumPy`给我们提供一个高效的数据结构，底层基于C++/Fortran库；    \n",
    "[Array programming with NumPy, Nature **585**,357(2020).](https://www.nature.com/articles/s41586-020-2649-2)\n",
    "\n",
    "> \"Now, 15 years later, NumPy underpins almost every Python library that does scientific or numerical computation, including SciPy, Matplotlib, pandas, scikit-learn and scikit-image. NumPy is a community-developed, open-source library, which provides a multidimensional Python array object along with array-aware functions that operate on it. Because of its inherent simplicity, the NumPy array is the de facto exchange format for array data in Python.\"\n",
    "\n",
    "\n",
    "\n",
    "\n",
    "- 知道基本属性(`attribute`)，基本`method`；   \n",
    "- 常见新数组的创建、初始化、赋值；  \n",
    "- 基础数学运算：+-*/, 数组的广播；        \n",
    "- 线性代数运算：内积，外积（张量积）；    \n",
    "- 数组的拼接、组合、压平、查找、切片等。。。"
   ]
  },
  {
   "cell_type": "markdown",
   "id": "7af82f6f",
   "metadata": {
    "tags": []
   },
   "source": [
    "### 简介\n",
    "Numpy(Numerical Python)是Python科学计算的基础包。它提供以下功能(不限于此):<br>\n",
    "* 快速高效的多维数组对象ndarray。\n",
    "* 用于对数组执行元素级计算以及直接对数组执行数学运算的函数。\n",
    "* 用于集成由c/c++/Fortran代码的API。\n",
    "* 线性代数运算、傅里叶变换，以及随机数生成。"
   ]
  },
  {
   "cell_type": "code",
   "execution_count": 3,
   "id": "5fac5a76",
   "metadata": {},
   "outputs": [],
   "source": [
    "import numpy as np"
   ]
  },
  {
   "cell_type": "code",
   "execution_count": 4,
   "id": "b3de9c20-61a1-4fbb-aace-8c036ff119b6",
   "metadata": {},
   "outputs": [
    {
     "data": {
      "text/plain": [
       "'1.21.5'"
      ]
     },
     "execution_count": 4,
     "metadata": {},
     "output_type": "execute_result"
    }
   ],
   "source": [
    "np.__version__"
   ]
  },
  {
   "cell_type": "code",
   "execution_count": 1,
   "id": "2a68b830-744d-4438-82f3-5fb4edaa0f66",
   "metadata": {},
   "outputs": [],
   "source": [
    "# `np.[Tab?]`\n",
    "np."
   ]
  },
  {
   "cell_type": "markdown",
   "id": "b5e02294",
   "metadata": {
    "tags": []
   },
   "source": [
    "### Ndarray对象"
   ]
  },
  {
   "cell_type": "markdown",
   "id": "a90cabe9",
   "metadata": {},
   "source": [
    "#### 从已有对象（`object`）实例化：     \n",
    "\n",
    "Numpy中最重要的一个特点就是其N维数组对象(即ndarray)，它是一系列同类型数据的集合。可以通过调用Numpy的array函数来创建ndarray:<br>\n",
    "``` python\n",
    "np.array(object,dtype = None ,copy = True ,order = 'K',subok = False ,ndmin = 0,like = None)\n",
    "```"
   ]
  },
  {
   "cell_type": "code",
   "execution_count": 44,
   "id": "9f06d588",
   "metadata": {},
   "outputs": [
    {
     "data": {
      "text/plain": [
       "array([1, 2, 3, 4, 5])"
      ]
     },
     "execution_count": 44,
     "metadata": {},
     "output_type": "execute_result"
    }
   ],
   "source": [
    "a1D = np.array([1,2,3,4,5])\n",
    "a1D"
   ]
  },
  {
   "cell_type": "code",
   "execution_count": 5,
   "id": "e2201feb-18d2-43b0-9764-370809741754",
   "metadata": {},
   "outputs": [
    {
     "data": {
      "text/plain": [
       "array([1, 2, 3, 4, 5])"
      ]
     },
     "execution_count": 5,
     "metadata": {},
     "output_type": "execute_result"
    }
   ],
   "source": [
    "np.asarray([1,2,3,4,5])"
   ]
  },
  {
   "cell_type": "markdown",
   "id": "28bfb3b2",
   "metadata": {
    "tags": []
   },
   "source": [
    "#### Ndarray数组属性"
   ]
  },
  {
   "cell_type": "markdown",
   "id": "efbb9b29",
   "metadata": {
    "tags": []
   },
   "source": [
    "| 属性| 说明 |\n",
    "| ------ | ------ | \n",
    "| `ndarray.ndim` | 秩，即轴的数量或维度的数量 | \n",
    "| `ndarray.shape` | 数组的维度，对于矩阵，n 行 m 列 |\n",
    "| `ndarray.size` | 数组元素的总个数 |\n",
    "| `ndarray.dtype` |ndarray 对象的元素类型| \n",
    "| `ndarray.itemsize ` | ndarray 对象中每个元素的大小，以字节为单位| \n",
    "| `ndarray.flags` | ndarray 对象的内存信息| \n",
    "| `ndarray.dtype` |ndarray 对象的元素类型| \n",
    "| `ndarray.real ` | ndarray元素的实部| \n",
    "| `ndarray.imag` | ndarray 元素的虚部| \n",
    "| `ndarray.data` | 包含实际数组元素的缓冲区，由于一般通过数组的索引获取元素，所以通常不需要使用这个属性| "
   ]
  },
  {
   "cell_type": "code",
   "execution_count": 6,
   "id": "a2a872f8",
   "metadata": {},
   "outputs": [
    {
     "data": {
      "text/plain": [
       "3"
      ]
     },
     "execution_count": 6,
     "metadata": {},
     "output_type": "execute_result"
    }
   ],
   "source": [
    "a3D = np.array([[[1,3],[4,5]],[[2,6],[4,8]]])\n",
    "a3D.ndim"
   ]
  },
  {
   "cell_type": "code",
   "execution_count": 7,
   "id": "c725e002",
   "metadata": {},
   "outputs": [
    {
     "data": {
      "text/plain": [
       "(2, 2, 2)"
      ]
     },
     "execution_count": 7,
     "metadata": {},
     "output_type": "execute_result"
    }
   ],
   "source": [
    "a3D.shape"
   ]
  },
  {
   "cell_type": "code",
   "execution_count": 8,
   "id": "57bef6cf-43aa-4bb1-9899-8a73145d3b81",
   "metadata": {},
   "outputs": [
    {
     "name": "stdout",
     "output_type": "stream",
     "text": [
      "[[[1 3]\n",
      "  [4 5]]\n",
      "\n",
      " [[2 6]\n",
      "  [4 8]]]\n"
     ]
    }
   ],
   "source": [
    "print(a3D)"
   ]
  },
  {
   "cell_type": "markdown",
   "id": "1ba069a2",
   "metadata": {
    "tags": []
   },
   "source": [
    "#### Ndarray数组的创建（直接生成一个`array`对象）"
   ]
  },
  {
   "cell_type": "markdown",
   "id": "4beb16da",
   "metadata": {},
   "source": [
    "Ndarray除了用`np.array`创建，还可以通过`np.zeros()`,`np.ones()`,`np.empty()`,`np.arange()`,`np.linspace()`等方式来创建数组"
   ]
  },
  {
   "cell_type": "markdown",
   "id": "090a0a86",
   "metadata": {},
   "source": [
    "| 属性| 说明 |\n",
    "| ------ | ------ | \n",
    "| `np.zeros(shape,dtype,order)` | 创建指定shape和dtype的数组，数组元素用`0`来填充 | \n",
    "| `np.ones(shape,dtype,order)` | 创建指定shape和dtype的数组，数组元素用`1`来填充 |\n",
    "| `np.empty(shape,dtype,order)` | 法用来创建一个指定shape和dtype且未初始化的数组 |\n",
    "| `np.arange(start, stop, step, dtype)` |根据 start 与 stop 指定的范围以及 step 设定的步长，创建一维数组| \n",
    "| `np.linspace(start, stop, num=50, endpoint=True, retstep=False, dtype=None) ` |根据start 与 stop 指定的范围以及 num 设定的元素总数生成一维等差数组| \n",
    "| `np.logspace(start, stop, num=50, endpoint=True, base=10.0, dtype=None)` |序列起始值为base^start终止值为base^stop,num为数组元素数目，生成等比数列 | \n",
    "| `np.random.rand(d1,d2,d3...)` |生成指定shape，元素为[0,1)均匀分布的随机样本| \n"
   ]
  },
  {
   "cell_type": "code",
   "execution_count": null,
   "id": "4837e94c-f065-4026-9ee6-0677f87de919",
   "metadata": {},
   "outputs": [],
   "source": [
    "np.full()"
   ]
  },
  {
   "cell_type": "code",
   "execution_count": 9,
   "id": "07813044",
   "metadata": {},
   "outputs": [
    {
     "data": {
      "text/plain": [
       "array([[0., 0., 0., 0., 0.],\n",
       "       [0., 0., 0., 0., 0.]])"
      ]
     },
     "execution_count": 9,
     "metadata": {},
     "output_type": "execute_result"
    }
   ],
   "source": [
    "np.zeros((2,5))"
   ]
  },
  {
   "cell_type": "code",
   "execution_count": 10,
   "id": "b3cb9f80",
   "metadata": {},
   "outputs": [
    {
     "data": {
      "text/plain": [
       "array([[1., 1., 1., 1.],\n",
       "       [1., 1., 1., 1.],\n",
       "       [1., 1., 1., 1.]])"
      ]
     },
     "execution_count": 10,
     "metadata": {},
     "output_type": "execute_result"
    }
   ],
   "source": [
    "np.ones((3,4))"
   ]
  },
  {
   "cell_type": "code",
   "execution_count": 49,
   "id": "1292c644",
   "metadata": {},
   "outputs": [],
   "source": [
    "a=np.empty((2,2))"
   ]
  },
  {
   "cell_type": "code",
   "execution_count": 51,
   "id": "9030658e-52ce-493d-a964-051c10b367c8",
   "metadata": {},
   "outputs": [
    {
     "data": {
      "text/plain": [
       "array([2.71828183, 7.3890561 ])"
      ]
     },
     "execution_count": 51,
     "metadata": {},
     "output_type": "execute_result"
    }
   ],
   "source": [
    "a[0]"
   ]
  },
  {
   "cell_type": "code",
   "execution_count": 16,
   "id": "833c6365",
   "metadata": {},
   "outputs": [
    {
     "data": {
      "text/plain": [
       "range(1, 10)"
      ]
     },
     "execution_count": 16,
     "metadata": {},
     "output_type": "execute_result"
    }
   ],
   "source": [
    "range(1,10)"
   ]
  },
  {
   "cell_type": "code",
   "execution_count": null,
   "id": "86ce56f6-e434-41d4-9e9f-6edba939c6bb",
   "metadata": {},
   "outputs": [],
   "source": []
  },
  {
   "cell_type": "code",
   "execution_count": 37,
   "id": "0f46930a-cc04-42dd-8330-a25c40d7dca6",
   "metadata": {},
   "outputs": [
    {
     "data": {
      "text/plain": [
       "array([ 0.,  1.,  2.,  3.,  4.,  5.,  6.,  7.,  8.,  9., 10., 11., 12.,\n",
       "       13., 14., 15., 16., 17., 18., 19., 20.])"
      ]
     },
     "execution_count": 37,
     "metadata": {},
     "output_type": "execute_result"
    }
   ],
   "source": [
    "np.linspace(0,20,21)"
   ]
  },
  {
   "cell_type": "code",
   "execution_count": 20,
   "id": "0bf4e31f",
   "metadata": {},
   "outputs": [
    {
     "data": {
      "text/plain": [
       "array([[0.71968454, 0.6977147 , 0.25706825, 0.683458  ],\n",
       "       [0.10367606, 0.525417  , 0.97487161, 0.16314838]])"
      ]
     },
     "execution_count": 20,
     "metadata": {},
     "output_type": "execute_result"
    }
   ],
   "source": [
    "a2d=np.random.rand(2,4)\n",
    "a2d"
   ]
  },
  {
   "cell_type": "markdown",
   "id": "978ad7eb",
   "metadata": {
    "tags": []
   },
   "source": [
    "#### Ndarray数组的切片和索引\n"
   ]
  },
  {
   "cell_type": "markdown",
   "id": "ec29bd08",
   "metadata": {},
   "source": [
    "Ndarray对象的内容可以通过索引或切片来进行访问和修改，与Python中list的切片操作相似。Ndarray数组可以基于下标进行索引，切片对象可以通过内置的`slice`函数,并设置start,stop和step参数进行，从原数组中切割一个新数组。"
   ]
  },
  {
   "cell_type": "code",
   "execution_count": 23,
   "id": "d6fb9c68-a78a-4051-8c86-d0e24beb8153",
   "metadata": {},
   "outputs": [
    {
     "data": {
      "text/plain": [
       "array([[0.6977147 , 0.25706825],\n",
       "       [0.525417  , 0.97487161]])"
      ]
     },
     "execution_count": 23,
     "metadata": {},
     "output_type": "execute_result"
    }
   ],
   "source": [
    "a2d[0:,1:-1]"
   ]
  },
  {
   "cell_type": "code",
   "execution_count": 11,
   "id": "94cf33e3",
   "metadata": {},
   "outputs": [
    {
     "data": {
      "text/plain": [
       "array([2, 3, 4])"
      ]
     },
     "execution_count": 11,
     "metadata": {},
     "output_type": "execute_result"
    }
   ],
   "source": [
    "s = slice(1,4,1)\n",
    "a1D[s]"
   ]
  },
  {
   "cell_type": "code",
   "execution_count": 46,
   "id": "c7b2afcc-7304-4abc-b2dc-61968f7722e5",
   "metadata": {},
   "outputs": [
    {
     "data": {
      "text/plain": [
       "array([1, 2, 3, 4, 5])"
      ]
     },
     "execution_count": 46,
     "metadata": {},
     "output_type": "execute_result"
    }
   ],
   "source": [
    "a1D"
   ]
  },
  {
   "cell_type": "code",
   "execution_count": 45,
   "id": "28e9fff0",
   "metadata": {},
   "outputs": [
    {
     "data": {
      "text/plain": [
       "array([1, 3])"
      ]
     },
     "execution_count": 45,
     "metadata": {},
     "output_type": "execute_result"
    }
   ],
   "source": [
    "a1D[0:-1:2]"
   ]
  },
  {
   "cell_type": "code",
   "execution_count": 13,
   "id": "c6d37c92-d2c4-459d-9ecd-1cfcf2e0a638",
   "metadata": {},
   "outputs": [
    {
     "data": {
      "text/plain": [
       "array([4, 5])"
      ]
     },
     "execution_count": 13,
     "metadata": {},
     "output_type": "execute_result"
    }
   ],
   "source": [
    "a1D[3:]"
   ]
  },
  {
   "cell_type": "code",
   "execution_count": 25,
   "id": "c48014b5-814e-4590-8284-fd4da7c02319",
   "metadata": {},
   "outputs": [
    {
     "data": {
      "text/plain": [
       "array([[[1, 3],\n",
       "        [4, 5]],\n",
       "\n",
       "       [[2, 6],\n",
       "        [4, 8]]])"
      ]
     },
     "execution_count": 25,
     "metadata": {},
     "output_type": "execute_result"
    }
   ],
   "source": [
    "a3D"
   ]
  },
  {
   "cell_type": "code",
   "execution_count": 24,
   "id": "32106607",
   "metadata": {},
   "outputs": [
    {
     "data": {
      "text/plain": [
       "array([[[1, 3],\n",
       "        [4, 5]],\n",
       "\n",
       "       [[2, 6],\n",
       "        [4, 8]]])"
      ]
     },
     "execution_count": 24,
     "metadata": {},
     "output_type": "execute_result"
    }
   ],
   "source": [
    "a3D"
   ]
  },
  {
   "cell_type": "code",
   "execution_count": 21,
   "id": "6d481394-0b19-48cc-85ad-2a47a1117b7f",
   "metadata": {},
   "outputs": [
    {
     "data": {
      "text/plain": [
       "array([[[4, 5]],\n",
       "\n",
       "       [[4, 8]]])"
      ]
     },
     "execution_count": 21,
     "metadata": {},
     "output_type": "execute_result"
    }
   ],
   "source": [
    "a3D[0:,1:]"
   ]
  },
  {
   "cell_type": "markdown",
   "id": "7e0add6f-12ff-4f3d-ab18-e350b9c1ef86",
   "metadata": {},
   "source": [
    "除了切片和按索引访问数组元素，还可以通过`np.where`函数条件选取数组。"
   ]
  },
  {
   "cell_type": "markdown",
   "id": "0ca25b9a-1f3b-4397-87b3-4c75ef1d870a",
   "metadata": {},
   "source": [
    "| 函数 | 说明 |\n",
    "| ------ | ------ | \n",
    "| `np.where(conditions)` | 当函数只有一个参数时，该参数表示条件，当条件成立时，函数返回的是每个符合`condition`条件元素的坐标,返回的是以元组的形式输出| \n",
    "| `np.where(conditions,x,y)` |  当函数内有三个参数时，第一个参数表示条件，当条件成立时函数返回`x`，当条件不成立时返回`y` |"
   ]
  },
  {
   "cell_type": "code",
   "execution_count": 26,
   "id": "d6fb984d-e692-4eae-909a-6435dc032025",
   "metadata": {},
   "outputs": [
    {
     "ename": "NameError",
     "evalue": "name 'a1D' is not defined",
     "output_type": "error",
     "traceback": [
      "\u001b[0;31m---------------------------------------------------------------------------\u001b[0m",
      "\u001b[0;31mNameError\u001b[0m                                 Traceback (most recent call last)",
      "Input \u001b[0;32mIn [26]\u001b[0m, in \u001b[0;36m<cell line: 1>\u001b[0;34m()\u001b[0m\n\u001b[0;32m----> 1\u001b[0m np\u001b[38;5;241m.\u001b[39mwhere(\u001b[43ma1D\u001b[49m\u001b[38;5;241m==\u001b[39m\u001b[38;5;241m4\u001b[39m)\n",
      "\u001b[0;31mNameError\u001b[0m: name 'a1D' is not defined"
     ]
    }
   ],
   "source": [
    "np.where(a1D==4)"
   ]
  },
  {
   "cell_type": "code",
   "execution_count": 17,
   "id": "a7659e7b-109b-4188-b205-84fc718871ab",
   "metadata": {},
   "outputs": [
    {
     "data": {
      "text/plain": [
       "array([-2, -2, -2,  4, -2])"
      ]
     },
     "execution_count": 17,
     "metadata": {},
     "output_type": "execute_result"
    }
   ],
   "source": [
    "np.where(a1D==4 , a1D ,-2)"
   ]
  },
  {
   "cell_type": "markdown",
   "id": "c3e26fad-c56e-4f4d-b6d1-9ec0c3242cce",
   "metadata": {
    "tags": []
   },
   "source": [
    "#### Ndarray数组操作"
   ]
  },
  {
   "cell_type": "markdown",
   "id": "dd239bdd-9a42-4133-bd83-6f024ebcfa25",
   "metadata": {},
   "source": [
    "`numpy`中"
   ]
  },
  {
   "cell_type": "markdown",
   "id": "8020043b-aef5-4520-a219-9a3a32277682",
   "metadata": {},
   "source": [
    "| 函数 | 说明 |\n",
    "| ------ | ------ | \n",
    "| `np.reshape(array,newshape)`或`ndarray.reshape(newshape) ` | 不改变数据的条件下修改数组形状,`array`为输入数组，`newshape`为改变后数组形状 | \n",
    "| `ndarray.ravel()` |展平的数组元素，将数组变为一维数组，修改会影响原始数组  |\n",
    "| `ndarray.flatten()` |将数组变直，变为一维数组,返回一份数组拷贝，对拷贝所做的修改不会影响原始数组 |\n",
    "| `np.transpose(array,axes)` | 调换数组的行列值的索引值，类似于求矩阵的转置，对二维数组而言操作类似矩阵转置 |\n",
    "| `ndarray.T` | 二维数组的转置 |\n",
    "| `np.column_stack(), np.row_stack()` | 按列合并数组，按行合并数组 |\n",
    "| `np.vstack(), np.hstack(), np.stack()` | 竖直堆叠合并数组，水平堆叠合并数组，沿着新的轴加入一系列数组 |\n",
    "| `np.concatenate()` | 连接沿现有轴的数组序列 |\n",
    "| `np.vsplit(), np.hsplit(), np.split()` | 竖直拆分数组(可理解为vstack反向操作)，水平拆分数组，按指定轴拆分数组 |"
   ]
  },
  {
   "cell_type": "code",
   "execution_count": 18,
   "id": "e0febca5-ddd2-460e-b803-c0d1c2929c17",
   "metadata": {},
   "outputs": [
    {
     "data": {
      "text/plain": [
       "array([[1],\n",
       "       [2],\n",
       "       [3],\n",
       "       [4],\n",
       "       [5]])"
      ]
     },
     "execution_count": 18,
     "metadata": {},
     "output_type": "execute_result"
    }
   ],
   "source": [
    "np.reshape(a1D,(5,-1))"
   ]
  },
  {
   "cell_type": "code",
   "execution_count": 37,
   "id": "b6351f51-58fb-4932-b24e-01e75224b171",
   "metadata": {},
   "outputs": [
    {
     "data": {
      "text/plain": [
       "array([[1, 3],\n",
       "       [4, 5],\n",
       "       [2, 6],\n",
       "       [4, 8]])"
      ]
     },
     "execution_count": 37,
     "metadata": {},
     "output_type": "execute_result"
    }
   ],
   "source": [
    "a3D_reshape= a3D.reshape(4,2)\n",
    "a3D_reshape"
   ]
  },
  {
   "cell_type": "code",
   "execution_count": 42,
   "id": "053e11d9-af95-42d2-b9e9-d5749023c888",
   "metadata": {},
   "outputs": [
    {
     "data": {
      "text/plain": [
       "array([3, 5, 6, 8])"
      ]
     },
     "execution_count": 42,
     "metadata": {},
     "output_type": "execute_result"
    }
   ],
   "source": [
    "a3D_reshape[:,1]"
   ]
  },
  {
   "cell_type": "code",
   "execution_count": 35,
   "id": "0e6283fc-a916-4691-8b8a-80e3ec4965d6",
   "metadata": {},
   "outputs": [
    {
     "data": {
      "text/plain": [
       "array([[1, 3],\n",
       "       [4, 5]])"
      ]
     },
     "execution_count": 35,
     "metadata": {},
     "output_type": "execute_result"
    }
   ],
   "source": [
    "a3D[0,]"
   ]
  },
  {
   "cell_type": "code",
   "execution_count": 20,
   "id": "3f258840-838b-4176-9923-8860ed659747",
   "metadata": {},
   "outputs": [
    {
     "data": {
      "text/plain": [
       "array([1, 2, 3, 4, 5])"
      ]
     },
     "execution_count": 20,
     "metadata": {},
     "output_type": "execute_result"
    }
   ],
   "source": [
    "a1D"
   ]
  },
  {
   "cell_type": "code",
   "execution_count": 21,
   "id": "d77dadc3-68b0-4c14-96ba-03b1bb864184",
   "metadata": {},
   "outputs": [],
   "source": [
    "test1 = a3D.flatten()\n",
    "test1\n",
    "test1[1] = 2"
   ]
  },
  {
   "cell_type": "code",
   "execution_count": 22,
   "id": "a9f5a943-326a-4f6b-b183-2b39f1407a65",
   "metadata": {},
   "outputs": [
    {
     "data": {
      "text/plain": [
       "array([[[1, 3],\n",
       "        [4, 5]],\n",
       "\n",
       "       [[2, 6],\n",
       "        [4, 8]]])"
      ]
     },
     "execution_count": 22,
     "metadata": {},
     "output_type": "execute_result"
    }
   ],
   "source": [
    "a3D"
   ]
  },
  {
   "cell_type": "code",
   "execution_count": 23,
   "id": "538af45e-912e-4631-baf2-2a628d20f234",
   "metadata": {},
   "outputs": [],
   "source": [
    "test2  = a3D.ravel()\n",
    "test2\n",
    "test2[1] = 2"
   ]
  },
  {
   "cell_type": "code",
   "execution_count": 24,
   "id": "b43cabe8-b253-487c-9e89-878f127d9323",
   "metadata": {},
   "outputs": [
    {
     "data": {
      "text/plain": [
       "array([[0, 1, 2],\n",
       "       [3, 4, 5]])"
      ]
     },
     "execution_count": 24,
     "metadata": {},
     "output_type": "execute_result"
    }
   ],
   "source": [
    "a2D = np.arange(0,6).reshape(2,3)\n",
    "a2D"
   ]
  },
  {
   "cell_type": "code",
   "execution_count": 25,
   "id": "b2525976-82c8-457e-bbb2-988c7ff060e4",
   "metadata": {},
   "outputs": [
    {
     "data": {
      "text/plain": [
       "array([[0, 3],\n",
       "       [1, 4],\n",
       "       [2, 5]])"
      ]
     },
     "execution_count": 25,
     "metadata": {},
     "output_type": "execute_result"
    }
   ],
   "source": [
    "a2D.T"
   ]
  },
  {
   "cell_type": "code",
   "execution_count": 27,
   "id": "454aa2d2-76fa-4655-9172-903587277a78",
   "metadata": {},
   "outputs": [
    {
     "name": "stdout",
     "output_type": "stream",
     "text": [
      "[ 0.  1.  2.  3.  4.  5.  6.  7.  8.  9. 10.]\n",
      "\n",
      "\n",
      "[97.4669159  31.60688591 35.57610001  0.32659888 19.18706583 32.03511881\n",
      " 98.76276311 21.35289944 17.93147823 70.3854878  56.73417923]\n",
      "\n",
      "\n"
     ]
    }
   ],
   "source": [
    "time = np.linspace(0,10,11) \n",
    "print(time)\n",
    "print('\\n')\n",
    "grade = np.random.rand(11,)*100\n",
    "print(grade)\n",
    "print('\\n')"
   ]
  },
  {
   "cell_type": "code",
   "execution_count": 35,
   "id": "b825a283-06fb-4b3e-b169-2a556a09d706",
   "metadata": {},
   "outputs": [
    {
     "data": {
      "text/plain": [
       "array([[ 0.        , 92.0397391 ],\n",
       "       [ 1.        ,  0.18365079],\n",
       "       [ 2.        , 89.89981118],\n",
       "       [ 3.        , 10.65636534],\n",
       "       [ 4.        , 75.83332455],\n",
       "       [ 5.        , 10.52939703],\n",
       "       [ 6.        , 52.00724131],\n",
       "       [ 7.        , 43.08896644],\n",
       "       [ 8.        , 35.79822399],\n",
       "       [ 9.        , 74.43382282],\n",
       "       [10.        , 53.0865614 ]])"
      ]
     },
     "execution_count": 35,
     "metadata": {},
     "output_type": "execute_result"
    }
   ],
   "source": [
    "np.column_stack((time,grade))"
   ]
  },
  {
   "cell_type": "code",
   "execution_count": 36,
   "id": "850d0fb1-fe38-4805-b225-099ddd74e1cf",
   "metadata": {},
   "outputs": [
    {
     "data": {
      "text/plain": [
       "array([[ 0.        ,  1.        ,  2.        ,  3.        ,  4.        ,\n",
       "         5.        ,  6.        ,  7.        ,  8.        ,  9.        ,\n",
       "        10.        ],\n",
       "       [92.0397391 ,  0.18365079, 89.89981118, 10.65636534, 75.83332455,\n",
       "        10.52939703, 52.00724131, 43.08896644, 35.79822399, 74.43382282,\n",
       "        53.0865614 ]])"
      ]
     },
     "execution_count": 36,
     "metadata": {},
     "output_type": "execute_result"
    }
   ],
   "source": [
    "np.row_stack((time,grade))"
   ]
  },
  {
   "cell_type": "code",
   "execution_count": 33,
   "id": "ac13b444-bfed-4ac7-b85e-5051644e2489",
   "metadata": {},
   "outputs": [
    {
     "data": {
      "text/plain": [
       "array([[ 0.        ,  1.        ,  2.        ,  3.        ,  4.        ,\n",
       "         5.        ,  6.        ,  7.        ,  8.        ,  9.        ,\n",
       "        10.        ],\n",
       "       [92.0397391 ,  0.18365079, 89.89981118, 10.65636534, 75.83332455,\n",
       "        10.52939703, 52.00724131, 43.08896644, 35.79822399, 74.43382282,\n",
       "        53.0865614 ]])"
      ]
     },
     "execution_count": 33,
     "metadata": {},
     "output_type": "execute_result"
    }
   ],
   "source": [
    "np.vstack((time,grade))"
   ]
  },
  {
   "cell_type": "code",
   "execution_count": 34,
   "id": "725a28a8-b190-4cea-8f53-0d726b28ba9c",
   "metadata": {},
   "outputs": [
    {
     "data": {
      "text/plain": [
       "array([ 0.        ,  1.        ,  2.        ,  3.        ,  4.        ,\n",
       "        5.        ,  6.        ,  7.        ,  8.        ,  9.        ,\n",
       "       10.        , 92.0397391 ,  0.18365079, 89.89981118, 10.65636534,\n",
       "       75.83332455, 10.52939703, 52.00724131, 43.08896644, 35.79822399,\n",
       "       74.43382282, 53.0865614 ])"
      ]
     },
     "execution_count": 34,
     "metadata": {},
     "output_type": "execute_result"
    }
   ],
   "source": [
    "np.hstack((time,grade))"
   ]
  },
  {
   "cell_type": "markdown",
   "id": "a5066fd0-14a7-4f33-9c2d-002946ca456a",
   "metadata": {
    "tags": []
   },
   "source": [
    "### 通用函数"
   ]
  },
  {
   "cell_type": "markdown",
   "id": "19a1549c-6f3e-4f79-89c2-c986f56f83dc",
   "metadata": {},
   "source": [
    "`numpy`中"
   ]
  },
  {
   "cell_type": "markdown",
   "id": "d73ff78f-ed9c-456f-8e4f-a1ea1c44fa36",
   "metadata": {},
   "source": [
    "| 函数 | 说明 |\n",
    "| ------ | ------ | \n",
    "| `np.sin()` `np.cos()` ` np.tan() `|  三角函数 | \n",
    "| `np.arcsin()` `np.arccos()` ` np.arctan() `| 反三角函数 | \n",
    "| `np.sqrt()` | 开方函数 |\n",
    "| `np.exp()` | 指数函数 |\n",
    "| `np.around(a, decimals=0, out=None)` | 保留a到小数点后第decimals位(当近似位)，当近似的小数为5时，前一位近似为偶数 |\n",
    "| `np.ceil()`,`np.floor()` | 向上取整，向下取整 |\n",
    "| `np.max() np.min() np.sum() np.prod() `|找到数组最大值，最小值，对数组所有元素求和，求所有元素的乘积 |\n",
    "| `np.clip(a,amin,amax) `| 将a中元素截断到amin和amax区间中 |\n",
    "| `np.std() np.mean() np.median()` | 数组的标准差，平均值，中位数 |\n",
    "| `np.argmax() np.argmin()` | 返回数组最大值的索引，返回数组最小值的索引 |\n",
    "| `np.dot(a,b)` |a,b都是一维向量时，为向量点乘，都为二维矩阵时，为矩阵的乘法运算 |"
   ]
  },
  {
   "cell_type": "code",
   "execution_count": 42,
   "id": "3fcdb3eb-aab1-4fee-bb53-365824bd3eec",
   "metadata": {},
   "outputs": [
    {
     "data": {
      "text/plain": [
       "-1.0"
      ]
     },
     "execution_count": 42,
     "metadata": {},
     "output_type": "execute_result"
    }
   ],
   "source": [
    "np.cos(np.pi)"
   ]
  },
  {
   "cell_type": "code",
   "execution_count": 44,
   "id": "ccb1d0a6-673c-4966-8ad8-24f10b4471f2",
   "metadata": {},
   "outputs": [
    {
     "data": {
      "text/plain": [
       "array([0.        , 1.        , 1.41421356, 1.73205081, 2.        ,\n",
       "       2.23606798, 2.44948974, 2.64575131, 2.82842712, 3.        ,\n",
       "       3.16227766])"
      ]
     },
     "execution_count": 44,
     "metadata": {},
     "output_type": "execute_result"
    }
   ],
   "source": [
    "np.sqrt(np.linspace(0,10,11))"
   ]
  },
  {
   "cell_type": "code",
   "execution_count": 46,
   "id": "36a67215-8eae-4223-80fe-74892a95e9f1",
   "metadata": {},
   "outputs": [
    {
     "data": {
      "text/plain": [
       "array([0., 2., 2., 4., 4.])"
      ]
     },
     "execution_count": 46,
     "metadata": {},
     "output_type": "execute_result"
    }
   ],
   "source": [
    "np.around([0.5,1.5,2.5,3.5,4.5],decimals=0)"
   ]
  },
  {
   "cell_type": "code",
   "execution_count": 48,
   "id": "40d05b03-4a8b-4890-ac35-0af6b6532213",
   "metadata": {},
   "outputs": [
    {
     "name": "stdout",
     "output_type": "stream",
     "text": [
      "15\n",
      "120\n"
     ]
    }
   ],
   "source": [
    "print(np.sum(a1D))\n",
    "print(np.prod(a1D))"
   ]
  },
  {
   "cell_type": "code",
   "execution_count": 49,
   "id": "b415686e-21c0-4542-87d4-4c729ad98fe1",
   "metadata": {},
   "outputs": [
    {
     "data": {
      "text/plain": [
       "array([2, 2, 3, 4, 4])"
      ]
     },
     "execution_count": 49,
     "metadata": {},
     "output_type": "execute_result"
    }
   ],
   "source": [
    "np.clip(a1D,2,4)"
   ]
  },
  {
   "cell_type": "code",
   "execution_count": null,
   "id": "03535e65-ed8d-4870-bcc8-8e756dc1f399",
   "metadata": {},
   "outputs": [],
   "source": []
  },
  {
   "cell_type": "markdown",
   "id": "f41d1e55-32a5-4881-8f27-835609edc9a0",
   "metadata": {},
   "source": [
    "### 线性代数基础   \n",
    "\n",
    "- 矩阵    \n",
    "- 线性变换    \n",
    "- 矩阵分解    "
   ]
  },
  {
   "cell_type": "code",
   "execution_count": null,
   "id": "098797a4-fc3f-4367-9f81-617f30d67d49",
   "metadata": {},
   "outputs": [],
   "source": []
  },
  {
   "cell_type": "markdown",
   "id": "e13032b5-0617-47bf-847e-1deac7cd630c",
   "metadata": {},
   "source": [
    "-------------------"
   ]
  },
  {
   "cell_type": "markdown",
   "id": "a199e4ac-b7d3-462f-805e-05dd8ba8b617",
   "metadata": {
    "tags": []
   },
   "source": [
    "## [SciPy](https://scipy.org)\n"
   ]
  },
  {
   "cell_type": "markdown",
   "id": "685f8e76-d525-47e6-821a-d220d10211af",
   "metadata": {},
   "source": [
    "Scipy是一组专门解决科学计算中各种标准问题域的包的集合，主要包括下面这些包：<br>\n",
    "* scipy.integrate: 数值积分例程和微分方程求解器。\n",
    "* scipy.linalg: 扩展了由numpy.linalg提供的线性代数例程和矩阵分解功能。\n",
    "* scipy.optimize: 函数优化器(最小化器)以及根查找算法。\n",
    "* scipy.signal: 信号处理工具。\n",
    "* scipy.sparse: 稀疏矩阵和稀疏线性系统求解器。\n",
    "* scipy.special: SPECFN(实现许多常用数学函数(如伽马函数)的Fortran库)的包装器。\n",
    "* scipy.stats: 标准连续和离散概率分布(如密度函数、采样器、连续分布函数等)、各种统计检验方法，以及更好的描述统计法。"
   ]
  },
  {
   "cell_type": "code",
   "execution_count": 50,
   "id": "b1530dbd-356d-43d1-a799-a0183e9b3fbe",
   "metadata": {},
   "outputs": [],
   "source": [
    "import scipy "
   ]
  },
  {
   "cell_type": "markdown",
   "id": "058a8181-9d8e-4f66-bcab-b51494bfb787",
   "metadata": {
    "tags": []
   },
   "source": [
    "### [scipy.linalg](https://docs.scipy.org/doc/scipy/tutorial/linalg.html)\n",
    "\n",
    "> scipy.linalg contains all the functions in numpy.linalg. plus some other more advanced ones not contained in numpy.linalg."
   ]
  },
  {
   "cell_type": "markdown",
   "id": "2b219f74-308a-4514-97f0-6484de8bb060",
   "metadata": {},
   "source": [
    "- [线性代数科普](https://www.3blue1brown.com/topics/linear-algebra)   \n",
    "- 书:[线性代数应该这样学（第2版）](https://ochicken.top/Library/Mathematics/Linear_Algebra/Sheldon%20Axler%20-%20%E7%BA%BF%E6%80%A7%E4%BB%A3%E6%95%B0%E5%BA%94%E8%AF%A5%E8%BF%99%E6%A0%B7%E5%AD%A6.pdf)"
   ]
  },
  {
   "cell_type": "markdown",
   "id": "b074ec5c-6188-4742-9ca8-ccb6c3e5b458",
   "metadata": {},
   "source": [
    "`scipy.linalg`是负责处理线性代数部分计算的模块，`numpy`库中也有处理线性代数的模块`numpy.linalg`，而`scipy.linalg`除了包含`numpy.linalg`所有函数，也有许多`numpy.linalg`中没有的函数，与此同时`scipy.linalg`能确保在函数使用BLAS/LAPACK加速，因此我们往往在处理线性代数相关问题时往往采用`scipy.linalg`。"
   ]
  },
  {
   "cell_type": "code",
   "execution_count": 28,
   "id": "95099eae-b605-415c-8296-753ad95b885c",
   "metadata": {},
   "outputs": [],
   "source": [
    "import scipy.linalg as linalg"
   ]
  },
  {
   "cell_type": "markdown",
   "id": "6e8203e1-1681-4fed-a913-bffe7d3a8260",
   "metadata": {},
   "source": [
    "线性代数中的基本操作对象是矩阵，可以用二维`numpy.ndarray`(或者`numpy.matrix`)来表示矩阵。"
   ]
  },
  {
   "cell_type": "markdown",
   "id": "da31108b-a46a-415e-ada0-5905949d9058",
   "metadata": {},
   "source": [
    "$$\n",
    "A = \\left[\n",
    "\\begin{array}{ccc}\n",
    "1 & 2  \\\\\n",
    "3 & 4  \n",
    "\\end{array}\n",
    "\\right]\n",
    "$$"
   ]
  },
  {
   "cell_type": "code",
   "execution_count": 29,
   "id": "7dc1961e-db07-4618-ac86-bc164708b89b",
   "metadata": {},
   "outputs": [],
   "source": [
    "A = np.array([[1,2],\n",
    "              [3,4]])"
   ]
  },
  {
   "cell_type": "markdown",
   "id": "1632e166-68d5-4c79-95d7-e78065010f4b",
   "metadata": {
    "tags": []
   },
   "source": [
    "####  基础操作"
   ]
  },
  {
   "cell_type": "markdown",
   "id": "e53024df-962e-4d66-9e39-91141cb6730b",
   "metadata": {},
   "source": [
    "1. 矩阵求逆<br>\n",
    "矩阵 $\\mathbf{A}$ 的逆 $\\mathbf{B}$ 满足：$\\mathbf{BA}=\\mathbf{AB}=I$，记作 $\\mathbf{B} = \\mathbf{A}^{-1}$。\n"
   ]
  },
  {
   "cell_type": "code",
   "execution_count": 32,
   "id": "dc31fb42-0c14-40f2-923b-5e0a0059b0e5",
   "metadata": {},
   "outputs": [
    {
     "data": {
      "text/plain": [
       "array([[-2. ,  1. ],\n",
       "       [ 1.5, -0.5]])"
      ]
     },
     "execution_count": 32,
     "metadata": {},
     "output_type": "execute_result"
    }
   ],
   "source": [
    "# pseodu-inverse 'pinv\n",
    "B = linalg.inv(A)\n",
    "B"
   ]
  },
  {
   "cell_type": "code",
   "execution_count": 23,
   "id": "72876c3e-a90b-4425-bd8d-8fe917d3b486",
   "metadata": {},
   "outputs": [
    {
     "data": {
      "text/plain": [
       "array([[1.0000000e+00, 0.0000000e+00],\n",
       "       [8.8817842e-16, 1.0000000e+00]])"
      ]
     },
     "execution_count": 23,
     "metadata": {},
     "output_type": "execute_result"
    }
   ],
   "source": [
    "np.dot(A,B)"
   ]
  },
  {
   "cell_type": "markdown",
   "id": "4cca104f-814e-47df-a993-d6c192c18656",
   "metadata": {},
   "source": [
    "2. 求解线性方程组<br>\n",
    "例如，下列方程组\n",
    "$$\n",
    "\\begin{eqnarray*} \n",
    "x + 3y + 5z & = & 10 \\\\\n",
    "2x + 5y + z & = & 8  \\\\\n",
    "2x + 3y + 8z & = & 3\n",
    "\\end{eqnarray*}\n",
    "$$的解为：\n",
    "$$\n",
    "\\begin{split}\\left[\\begin{array}{c} x\\\\ y\\\\ z\\end{array}\\right]=\\left[\\begin{array}{ccc} 1 & 3 & 5\\\\ 2 & 5 & 1\\\\ 2 & 3 & 8\\end{array}\\right]^{-1}\\left[\\begin{array}{c} 10\\\\ 8\\\\ 3\\end{array}\\right]=\\frac{1}{25}\\left[\\begin{array}{c} -232\\\\ 129\\\\ 19\\end{array}\\right]=\\left[\\begin{array}{c} -9.28\\\\ 5.16\\\\ 0.76\\end{array}\\right].\\end{split}\n",
    "$$\n",
    "\n",
    "我们可以使用 `linalg.solve` 求解方程组，也可以先求逆再相乘，两者中 `solve` 比较快。"
   ]
  },
  {
   "cell_type": "code",
   "execution_count": 24,
   "id": "bbf1a371-8e15-422e-bd70-2118ca64828d",
   "metadata": {},
   "outputs": [
    {
     "data": {
      "text/plain": [
       "array([-4. ,  4.5])"
      ]
     },
     "execution_count": 24,
     "metadata": {},
     "output_type": "execute_result"
    }
   ],
   "source": [
    "A = np.array([[1,2],\n",
    "              [3,4]])\n",
    "b = np.array([5,6])\n",
    "x = linalg.inv(A).dot(b)\n",
    "x"
   ]
  },
  {
   "cell_type": "code",
   "execution_count": 26,
   "id": "7f91b473-50c9-438a-b7a8-b353dc8543a4",
   "metadata": {},
   "outputs": [
    {
     "data": {
      "text/plain": [
       "array([5., 6.])"
      ]
     },
     "execution_count": 26,
     "metadata": {},
     "output_type": "execute_result"
    }
   ],
   "source": [
    "A.dot(x)"
   ]
  },
  {
   "cell_type": "code",
   "execution_count": 28,
   "id": "e938b380-a7b3-447d-b4a9-08fa365d2241",
   "metadata": {},
   "outputs": [
    {
     "data": {
      "text/plain": [
       "array([-4. ,  4.5])"
      ]
     },
     "execution_count": 28,
     "metadata": {},
     "output_type": "execute_result"
    }
   ],
   "source": [
    "linalg.solve(A,b)"
   ]
  },
  {
   "cell_type": "markdown",
   "id": "da033040-4614-46fc-a913-a7bb6f9a4e66",
   "metadata": {},
   "source": [
    "3.  计算行列式"
   ]
  },
  {
   "cell_type": "markdown",
   "id": "777bcb09-5be0-4d06-998a-3e0901a1aadd",
   "metadata": {},
   "source": [
    "方阵的行列式为\n",
    "$$\n",
    "\\left|\\mathbf{A}\\right|=\\sum_{j}\\left(-1\\right)^{i+j}a_{ij}M_{ij}.\n",
    "$$\n",
    "\n",
    "其中 $a_{ij}$ 表示 $\\mathbf{A}$ 的第 $i$ 行 第 $j$ 列的元素，$M_{ij}$ 表示矩阵 $\\mathbf{A}$ 去掉第 $i$ 行 第 $j$ 列的新矩阵的行列式。\n",
    "\n",
    "例如，矩阵\n",
    "$$\n",
    "\\begin{split}\\mathbf{A=}\\left[\\begin{array}{ccc} 1 & 3 & 5\\\\ 2 & 5 & 1\\\\ 2 & 3 & 8\\end{array}\\right]\\end{split}\n",
    "$$\n",
    "的行列式是：\n",
    "$$\n",
    "\\begin{eqnarray*} \\left|\\mathbf{A}\\right| & = & 1\\left|\\begin{array}{cc} 5 & 1\\\\ 3 & 8\\end{array}\\right|-3\\left|\\begin{array}{cc} 2 & 1\\\\ 2 & 8\\end{array}\\right|+5\\left|\\begin{array}{cc} 2 & 5\\\\ 2 & 3\\end{array}\\right|\\\\  & = & 1\\left(5\\cdot8-3\\cdot1\\right)-3\\left(2\\cdot8-2\\cdot1\\right)+5\\left(2\\cdot3-2\\cdot5\\right)=-25.\\end{eqnarray*}\n",
    "$$\n",
    "\n",
    "可以用 `linalg.det` 计算行列式："
   ]
  },
  {
   "cell_type": "code",
   "execution_count": 32,
   "id": "eb27ac51-f8ca-43a9-b951-e2907f95fae7",
   "metadata": {},
   "outputs": [
    {
     "data": {
      "text/plain": [
       "-25.000000000000004"
      ]
     },
     "execution_count": 32,
     "metadata": {},
     "output_type": "execute_result"
    }
   ],
   "source": [
    "A1 = np.array([[1, 3, 5],\n",
    "              [2, 5, 1],\n",
    "              [2, 3, 8]])\n",
    "\n",
    "linalg.det(A1)"
   ]
  },
  {
   "cell_type": "code",
   "execution_count": 33,
   "id": "b67c9de2-3729-463c-8874-d825e4f99f50",
   "metadata": {},
   "outputs": [
    {
     "data": {
      "text/plain": [
       "-2.0"
      ]
     },
     "execution_count": 33,
     "metadata": {},
     "output_type": "execute_result"
    }
   ],
   "source": [
    "linalg.det(A)"
   ]
  },
  {
   "cell_type": "markdown",
   "id": "559c17ab-beb8-4a0f-8557-71d09633c084",
   "metadata": {
    "tags": []
   },
   "source": [
    "####  矩阵分解"
   ]
  },
  {
   "cell_type": "markdown",
   "id": "46e85672-abf0-4763-8752-92088d1f460c",
   "metadata": {},
   "source": [
    "1. 特征值和特征向量<br>\n",
    "对于给定的 $N \\times N$ 矩阵 $\\mathbf A$，特征值和特征向量问题相当与寻找标量 $\\lambda$ 和对应的向量 $\\mathbf v$ 使得：\n",
    "$$\n",
    "\\mathbf{Av} = \\lambda \\mathbf{v}\n",
    "$$<br>\n",
    "矩阵的 $N$ 个特征值（可能相同）可以通过计算特征方程的根得到：\n",
    "$$\n",
    "\\left|\\mathbf{A} - \\lambda \\mathbf{I}\\right| = 0\n",
    "$$<br>\n",
    "然后利用这些特征值求（归一化的）特征向量。"
   ]
  },
  {
   "cell_type": "markdown",
   "id": "76287aa3-fe7b-426e-b0ee-e79e8b810dfc",
   "metadata": {},
   "source": [
    "| 函数 | 说明 |\n",
    "| ------ | ------ | \n",
    "| `linalg.eig(A)`  | 返回矩阵的特征值与特征向量 | \n",
    "| `linalg.eigvals(A)` |返回矩阵的特征值  |\n",
    "| `linalg.eig(A, B)` |求解 $\\mathbf{Av} = \\lambda\\mathbf{Bv}$ 的问题  |\n",
    "\n"
   ]
  },
  {
   "cell_type": "markdown",
   "id": "1a7bd12a-83b0-483a-ae0e-694c35a9203e",
   "metadata": {},
   "source": [
    "如矩阵为\n",
    "$$\n",
    "\\begin{split}\\mathbf{A}=\\left[\\begin{array}{ccc} 1 & 5 & 2\\\\ 2 & 4 & 1\\\\ 3 & 6 & 2\\end{array}\\right].\\end{split}\n",
    "$$\n",
    "\n",
    "特征多项式为：\n",
    "$$\n",
    "\\begin{eqnarray*} \\left|\\mathbf{A}-\\lambda\\mathbf{I}\\right| & = & \\left(1-\\lambda\\right)\\left[\\left(4-\\lambda\\right)\\left(2-\\lambda\\right)-6\\right]-\\\\  &  & 5\\left[2\\left(2-\\lambda\\right)-3\\right]+2\\left[12-3\\left(4-\\lambda\\right)\\right]\\\\  & = & -\\lambda^{3}+7\\lambda^{2}+8\\lambda-3.\\end{eqnarray*}\n",
    "$$\n",
    "\n",
    "特征根为：\n",
    "$$\n",
    "\\begin{eqnarray*} \\lambda_{1} & = & 7.9579\\\\ \\lambda_{2} & = & -1.2577\\\\ \\lambda_{3} & = & 0.2997.\\end{eqnarray*}\n",
    "$$"
   ]
  },
  {
   "cell_type": "code",
   "execution_count": 58,
   "id": "754d366d-cce1-4c1a-b8fa-69451bf423eb",
   "metadata": {},
   "outputs": [
    {
     "name": "stdout",
     "output_type": "stream",
     "text": [
      "[ 7.9579162 +0.j -1.25766471+0.j  0.2997485 +0.j]\n",
      "[1. 1. 1.]\n",
      "2.0350724194510405e-15\n"
     ]
    }
   ],
   "source": [
    "A2 = np.array([[1, 5, 2], \n",
    "              [2, 4, 1],\n",
    "              [3, 6, 2]])\n",
    "\n",
    "la, v = linalg.eig(A2)\n",
    "\n",
    "print(la)\n",
    "\n",
    "# 验证特征向量是否归一化\n",
    "print(np.sum(abs(v**2),axis=0))\n",
    "\n",
    "# 第一个特征值\n",
    "l1 = la[0]\n",
    "# 对应的特征向量\n",
    "v1 = v[:, 0].T\n",
    "\n",
    "# 验证是否为特征值和特征向量对\n",
    "print(linalg.norm(A2.dot(v1)-l1*v1))"
   ]
  },
  {
   "cell_type": "markdown",
   "id": "ce27b382-a6ff-4dc4-b28c-36199f9cfdd3",
   "metadata": {},
   "source": [
    "2. 奇异值分解<br>\n",
    "$M \\times N$ 矩阵 $\\mathbf A$ 的奇异值分解为：\n",
    "$$\n",
    "\\mathbf{A=U}\\boldsymbol{\\Sigma}\\mathbf{V}^{H}\n",
    "$$\n",
    "\n",
    "  其中 $\\boldsymbol{\\Sigma} (M \\times N)$ 只有对角线上的元素不为 0，$\\mathbf U (M \\times M)$ 和 $\\mathbf V (N \\times N)$ 为正交矩阵。\n",
    "\n",
    "其具体原理可以查看维基百科：\n",
    "https://en.wikipedia.org/wiki/Singular_value_decomposition"
   ]
  },
  {
   "cell_type": "markdown",
   "id": "c0bf9a5e-2d6f-48ec-9876-b18146937336",
   "metadata": {
    "tags": []
   },
   "source": [
    "####  矩阵函数"
   ]
  },
  {
   "cell_type": "markdown",
   "id": "45d173b8-2821-40f7-8bd5-11697cd371d6",
   "metadata": {},
   "source": [
    "| 函数 | 说明 |\n",
    "| ------ | ------ | \n",
    "| `linalg.expm(A)` | 计算矩阵以e为底的指数 | \n",
    "| `linalg.logm(A)` |计算矩阵的对数  |\n",
    "| `linalg.cosm(A)` |计算矩阵的余弦  |\n",
    "| `linalg.sinm(A)` |计算矩阵的正弦  |\n",
    "| `linalg.tanm(A)` |计算矩阵的正切  |\n",
    "| `linalg.sqrtm(A)` |计算矩阵的开方  |\n"
   ]
  },
  {
   "cell_type": "code",
   "execution_count": 33,
   "id": "7220d78d-421f-4f5a-b029-4b4efea894e8",
   "metadata": {},
   "outputs": [
    {
     "name": "stdout",
     "output_type": "stream",
     "text": [
      "[[ 51.9689562   74.73656457]\n",
      " [112.10484685 164.07380305]]\n"
     ]
    }
   ],
   "source": [
    "A = np.array([[1, 2], [3, 4]])\n",
    "\n",
    "print(linalg.expm(A))"
   ]
  },
  {
   "cell_type": "code",
   "execution_count": 61,
   "id": "5963c488-a82a-4676-8810-fa7435c696e5",
   "metadata": {},
   "outputs": [
    {
     "data": {
      "text/plain": [
       "array([[1., 2.],\n",
       "       [3., 4.]])"
      ]
     },
     "execution_count": 61,
     "metadata": {},
     "output_type": "execute_result"
    }
   ],
   "source": [
    "linalg.logm(linalg.expm(A))"
   ]
  },
  {
   "cell_type": "code",
   "execution_count": 53,
   "id": "a25922e0-14b0-41cb-ad47-9f9fde7ebd35",
   "metadata": {},
   "outputs": [
    {
     "data": {
      "text/plain": [
       "array([[ 2.71828183,  7.3890561 ],\n",
       "       [20.08553692, 54.59815003]])"
      ]
     },
     "execution_count": 53,
     "metadata": {},
     "output_type": "execute_result"
    }
   ],
   "source": [
    "np.exp(A)"
   ]
  },
  {
   "cell_type": "markdown",
   "id": "3df95fde-7ca0-4d6f-aa82-3e7887e39c12",
   "metadata": {},
   "source": [
    "---------------------------"
   ]
  },
  {
   "cell_type": "markdown",
   "id": "48ec8433-7781-4d82-8b2f-4ef618b76d56",
   "metadata": {},
   "source": [
    "$$\n",
    "A = \\left[\n",
    "\\begin{array}{ccc}\n",
    "1 & 0 & 0 \\\\\n",
    "1 & 0 & 0 \\\\\n",
    "1 & 0 & 0\n",
    "\\end{array}\n",
    "\\right]\n",
    "$$"
   ]
  },
  {
   "cell_type": "code",
   "execution_count": null,
   "id": "a4ea3356",
   "metadata": {},
   "outputs": [],
   "source": []
  },
  {
   "cell_type": "code",
   "execution_count": null,
   "id": "f90828ef",
   "metadata": {},
   "outputs": [],
   "source": []
  },
  {
   "cell_type": "code",
   "execution_count": null,
   "id": "bef3aa9e",
   "metadata": {},
   "outputs": [],
   "source": []
  },
  {
   "cell_type": "code",
   "execution_count": null,
   "id": "fe58fe62",
   "metadata": {},
   "outputs": [],
   "source": []
  },
  {
   "cell_type": "markdown",
   "id": "b5d9d64b",
   "metadata": {},
   "source": [
    "## Homework"
   ]
  },
  {
   "cell_type": "markdown",
   "id": "a85436d7-1ffe-4b43-946d-f405274875ce",
   "metadata": {},
   "source": [
    "1. 生成一个$n\\times n$随机矩阵,取n=10:\n",
    "    - 初始化一个零矩阵，并向里面赋值的形式来完成（其实没必要这样）；    \n",
    "    - 记为矩阵A，矩阵元实部为[-2.,2.]之间的均匀分布，虚部为[-1.0,1.0]之间的正太分布；   \n",
    "    - 将A对称化，记为H，满足H的转置复共轭等于自己，$(H^T)^*=H$，将H的数值保存到本地文件（比如`txt`格式或者`npy`）并读取；  \n",
    "    - 读取你保存到本地文件，对角化H，得到其本征值和对应的本征矢量；  \n",
    "    - (*)尝试扩大n，探究对角化H的时间和n的关系。   "
   ]
  },
  {
   "cell_type": "markdown",
   "id": "09b55342-59bd-4c9d-a3ff-756076bbcfd9",
   "metadata": {},
   "source": [
    "2. 假设上述矩阵H可以作如下分解：$H=U^\\dagger\\Lambda U$,其中$\\Lambda$为对角矩阵，\n",
    "试验证:\n",
    "$$\n",
    "\\exp(H)=?= U^\\dagger \\exp(\\Lambda) U,\n",
    "$$\n",
    "可以的话，查资料再想想为什么？   \n",
    "\n",
    "> 注意矩阵的指数通常不等于矩阵的每个矩阵元逐元素取指数，可以参考`scipy.linalg.expm`的函数官方文档说明，并且可以直接使用这个函数。   "
   ]
  },
  {
   "cell_type": "markdown",
   "id": "5f47b254-dc80-489d-9c23-a20512c41244",
   "metadata": {},
   "source": [
    "3（*）. 尝试将上面做的事情封装成一个`class`并尝试使用它,比如可以类似这样：\n",
    "\n",
    "```python\n",
    "\n",
    "class someClass():\n",
    "    # 定义一些可以初始化的类属性\n",
    "    def __init__(n):\n",
    "        self.dim = n\n",
    "    \n",
    "    def symetrize(A):\n",
    "        # 实现传入任何矩阵检查是否为厄米共轭矩阵，如果是直接返回，不是将其厄米对称化。\n",
    "        # some codes...\n",
    "        pass\n",
    "    \n",
    "    def diagonalize():\n",
    "        pass\n",
    "    \n",
    "    # 其他方法或者是想增加的功能。。。\n",
    "```"
   ]
  },
  {
   "cell_type": "code",
   "execution_count": null,
   "id": "f94567b6-c48f-42a4-a8cb-05c966b54362",
   "metadata": {},
   "outputs": [],
   "source": []
  }
 ],
 "metadata": {
  "kernelspec": {
   "display_name": "Python 3 (ipykernel)",
   "language": "python",
   "name": "python3"
  },
  "language_info": {
   "codemirror_mode": {
    "name": "ipython",
    "version": 3
   },
   "file_extension": ".py",
   "mimetype": "text/x-python",
   "name": "python",
   "nbconvert_exporter": "python",
   "pygments_lexer": "ipython3",
   "version": "3.9.12"
  }
 },
 "nbformat": 4,
 "nbformat_minor": 5
}
