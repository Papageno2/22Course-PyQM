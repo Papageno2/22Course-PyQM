{
 "cells": [
  {
   "cell_type": "markdown",
   "id": "4e2aeefa-ed61-4ca5-937a-0679da82486b",
   "metadata": {
    "tags": []
   },
   "source": [
    "# Lecture 0\n",
    "[Author:MoXiong]:(创建日期：2022-07-16,最近编辑日期：2022-07-16,需要修改提升的地方：后面要用的库的安装都介绍一下)"
   ]
  },
  {
   "cell_type": "markdown",
   "id": "0de0e788-00a3-446e-8c36-acee14b22770",
   "metadata": {
    "tags": []
   },
   "source": [
    "## Python 简介"
   ]
  },
  {
   "cell_type": "markdown",
   "id": "faadeeee-6cf4-4f8f-b392-4b0a73b3f634",
   "metadata": {},
   "source": [
    "python 应用场景：\n",
    "*  大数据处理：\n",
    "*  数据采集，网页爬虫\n",
    "*  机器学习 \n",
    "* ......"
   ]
  },
  {
   "cell_type": "markdown",
   "id": "fbbfd128-e75c-4cc2-b283-156e0f06bf04",
   "metadata": {},
   "source": [
    "python 特点：\n",
    "* 简单易学\n",
    "* 开源免费\n",
    "* 功能强大，扩展性强\n",
    "* ......."
   ]
  },
  {
   "cell_type": "markdown",
   "id": "c44f1e09-130e-4d02-ba4c-4e58792c0a22",
   "metadata": {},
   "source": [
    "总结一下就是"
   ]
  },
  {
   "cell_type": "markdown",
   "id": "d907d0cc-dc71-4363-b94e-1082d3307d1f",
   "metadata": {},
   "source": [
    "> 人生苦短，我用python"
   ]
  },
  {
   "cell_type": "markdown",
   "id": "3d0304d5-40f0-4a4b-9108-b9e61ba79dd1",
   "metadata": {
    "tags": []
   },
   "source": [
    "> 我们就用Jupyter来干活演示了。"
   ]
  },
  {
   "cell_type": "code",
   "execution_count": null,
   "id": "ccb7696e-2374-4709-957a-41c10a2c90c4",
   "metadata": {},
   "outputs": [],
   "source": []
  },
  {
   "cell_type": "markdown",
   "id": "cb77851f-6f60-4859-a8ef-77f7c55c48cc",
   "metadata": {
    "tags": []
   },
   "source": [
    "## Python 安装"
   ]
  },
  {
   "cell_type": "markdown",
   "id": "7688b11e-b119-47ca-8db6-ea2d374b419d",
   "metadata": {
    "tags": []
   },
   "source": [
    "### Windows系统下"
   ]
  },
  {
   "cell_type": "markdown",
   "id": "213bb34c-f35b-486d-a54b-90e43b620a94",
   "metadata": {},
   "source": [
    "[教程](http://www.runoob.com)"
   ]
  },
  {
   "cell_type": "markdown",
   "id": "e760f78f-6c8e-4fb4-9b79-e7612ab4e808",
   "metadata": {},
   "source": [
    "[anaconda官网](https://www.anaconda.com/)<br>\n",
    "[python官网](https://www.python.org/)"
   ]
  },
  {
   "cell_type": "code",
   "execution_count": null,
   "id": "af6d7c9a-6766-4ba5-99c2-78b892052c7c",
   "metadata": {},
   "outputs": [],
   "source": []
  },
  {
   "cell_type": "markdown",
   "id": "6c30445f-6fc3-4a48-bb9a-a9d614682552",
   "metadata": {
    "tags": []
   },
   "source": [
    "## Python 库的安装和管理"
   ]
  },
  {
   "cell_type": "markdown",
   "id": "4e93487f-0fea-4fbf-83ec-5348ed23d8dd",
   "metadata": {},
   "source": [
    "常用的两个管理工具 `conda` 和`pip`,`pip`是最为广泛使用的 Python 包管理器，可以帮助我们获得最新的 Python 包并进行管理。常用命令如下"
   ]
  },
  {
   "cell_type": "markdown",
   "id": "f44d957b-695f-49ca-b388-99d77f5a4fc3",
   "metadata": {},
   "source": [
    "| 命令| 描述 |\n",
    "| ------ | ------ | \n",
    "| `pip install [package-name]` | 安装名为[package-name]的包 | \n",
    "| `pip install [package-name]==x.x` | 安装名为[package-name]的包并指定版本为X.X |\n",
    "| `pip install [package-name] --upgrade` | 更新名为[package-name]的包 |\n",
    "| `pip uninstall [package-name]` | 删除名为[package-name]的包| \n",
    "| `pip list    ` | 列出当前环境下已安装的所有包| \n"
   ]
  },
  {
   "cell_type": "code",
   "execution_count": 3,
   "id": "f3d716d1-1d38-4b27-af8f-7e8c7e4374dd",
   "metadata": {},
   "outputs": [
    {
     "name": "stdout",
     "output_type": "stream",
     "text": [
      "\n",
      "Usage:   \n",
      "  pip <command> [options]\n",
      "\n",
      "Commands:\n",
      "  install                     Install packages.\n",
      "  download                    Download packages.\n",
      "  uninstall                   Uninstall packages.\n",
      "  freeze                      Output installed packages in requirements format.\n",
      "  list                        List installed packages.\n",
      "  show                        Show information about installed packages.\n",
      "  check                       Verify installed packages have compatible dependencies.\n",
      "  config                      Manage local and global configuration.\n",
      "  search                      Search PyPI for packages.\n",
      "  cache                       Inspect and manage pip's wheel cache.\n",
      "  index                       Inspect information available from package indexes.\n",
      "  wheel                       Build wheels from your requirements.\n",
      "  hash                        Compute hashes of package archives.\n",
      "  completion                  A helper command used for command completion.\n",
      "  debug                       Show information useful for debugging.\n",
      "  help                        Show help for commands.\n",
      "\n",
      "General Options:\n",
      "  -h, --help                  Show help.\n",
      "  --isolated                  Run pip in an isolated mode, ignoring\n",
      "                              environment variables and user configuration.\n",
      "  -v, --verbose               Give more output. Option is additive, and can be\n",
      "                              used up to 3 times.\n",
      "  -V, --version               Show version and exit.\n",
      "  -q, --quiet                 Give less output. Option is additive, and can be\n",
      "                              used up to 3 times (corresponding to WARNING,\n",
      "                              ERROR, and CRITICAL logging levels).\n",
      "  --log <path>                Path to a verbose appending log.\n",
      "  --no-input                  Disable prompting for input.\n",
      "  --proxy <proxy>             Specify a proxy in the form\n",
      "                              [user:passwd@]proxy.server:port.\n",
      "  --retries <retries>         Maximum number of retries each connection should\n",
      "                              attempt (default 5 times).\n",
      "  --timeout <sec>             Set the socket timeout (default 15 seconds).\n",
      "  --exists-action <action>    Default action when a path already exists:\n",
      "                              (s)witch, (i)gnore, (w)ipe, (b)ackup, (a)bort.\n",
      "  --trusted-host <hostname>   Mark this host or host:port pair as trusted,\n",
      "                              even though it does not have valid or any HTTPS.\n",
      "  --cert <path>               Path to PEM-encoded CA certificate bundle. If\n",
      "                              provided, overrides the default. See 'SSL\n",
      "                              Certificate Verification' in pip documentation\n",
      "                              for more information.\n",
      "  --client-cert <path>        Path to SSL client certificate, a single file\n",
      "                              containing the private key and the certificate\n",
      "                              in PEM format.\n",
      "  --cache-dir <dir>           Store the cache data in <dir>.\n",
      "  --no-cache-dir              Disable the cache.\n",
      "  --disable-pip-version-check\n",
      "                              Don't periodically check PyPI to determine\n",
      "                              whether a new version of pip is available for\n",
      "                              download. Implied with --no-index.\n",
      "  --no-color                  Suppress colored output.\n",
      "  --no-python-version-warning\n",
      "                              Silence deprecation warnings for upcoming\n",
      "                              unsupported Pythons.\n",
      "  --use-feature <feature>     Enable new functionality, that may be backward\n",
      "                              incompatible.\n",
      "  --use-deprecated <feature>  Enable deprecated functionality, that will be\n",
      "                              removed in the future.\n"
     ]
    }
   ],
   "source": [
    "! pip install qutip -i https://pypi.tuna.tsinghua.edu.cn/simple "
   ]
  },
  {
   "cell_type": "markdown",
   "id": "5f920c20-ae51-4f47-9760-1b4fdd7555c2",
   "metadata": {},
   "source": [
    "conda 包管理器是 Anaconda 自带的包管理器，可以帮助我们在 conda 环境下轻松地安装各种包。相较于 pip 而言，conda 的通用性更强，但 conda 源的版本更新往往较慢。常用命令如下<br>\n",
    "\n",
    "| 命令| 描述 |\n",
    "| ------ | ------ | \n",
    "| `conda install [package-name]` | 安装名为[package-name]的包 | \n",
    "| `conda install [package-name]==x.x` | 安装名为[package-name]的包并指定版本为X.X |\n",
    "| `conda upgrade [package-name]` | 更新名为[package-name]的包 |\n",
    "| `conda remove [package-name]` | 删除名为[package-name]的包| \n",
    "| `conda list    ` | 列出当前环境下已安装的所有包| \n"
   ]
  },
  {
   "cell_type": "code",
   "execution_count": 16,
   "id": "b069a43b-8e29-4a73-870e-b8ad76229c81",
   "metadata": {},
   "outputs": [
    {
     "name": "stdout",
     "output_type": "stream",
     "text": [
      "usage: conda [-h] [-V] command ...\n",
      "\n",
      "conda is a tool for managing and deploying applications, environments and packages.\n",
      "\n",
      "Options:\n",
      "\n",
      "positional arguments:\n",
      "  command\n",
      "    clean        Remove unused packages and caches.\n",
      "    compare      Compare packages between conda environments.\n",
      "    config       Modify configuration values in .condarc. This is modeled\n",
      "                 after the git config command. Writes to the user .condarc\n",
      "                 file (/home/mx/.condarc) by default.\n",
      "    create       Create a new conda environment from a list of specified\n",
      "                 packages.\n",
      "    info         Display information about current conda install.\n",
      "    init         Initialize conda for shell interaction. [Experimental]\n",
      "    install      Installs a list of packages into a specified conda\n",
      "                 environment.\n",
      "    list         List linked packages in a conda environment.\n",
      "    package      Low-level conda package utility. (EXPERIMENTAL)\n",
      "    remove       Remove a list of packages from a specified conda environment.\n",
      "    uninstall    Alias for conda remove.\n",
      "    run          Run an executable in a conda environment.\n",
      "    search       Search for packages and display associated information. The\n",
      "                 input is a MatchSpec, a query language for conda packages.\n",
      "                 See examples below.\n",
      "    update       Updates conda packages to the latest compatible version.\n",
      "    upgrade      Alias for conda update.\n",
      "\n",
      "optional arguments:\n",
      "  -h, --help     Show this help message and exit.\n",
      "  -V, --version  Show the conda version number and exit.\n",
      "\n",
      "conda commands available from other packages:\n",
      "  build\n",
      "  content-trust\n",
      "  convert\n",
      "  debug\n",
      "  develop\n",
      "  env\n",
      "  index\n",
      "  inspect\n",
      "  metapackage\n",
      "  pack\n",
      "  render\n",
      "  repo\n",
      "  server\n",
      "  skeleton\n",
      "  token\n",
      "  verify\n"
     ]
    }
   ],
   "source": [
    "!conda -h"
   ]
  },
  {
   "cell_type": "markdown",
   "id": "44153b38-dc53-4160-b422-46ac653ac01b",
   "metadata": {
    "tags": []
   },
   "source": [
    "## IDE "
   ]
  },
  {
   "cell_type": "markdown",
   "id": "0416017a-54e3-4fec-848c-9c53f33bd1b9",
   "metadata": {},
   "source": [
    "* IDLE\n",
    "\n",
    "* Pycharm \n",
    "\n",
    "* Visual Studio Code \n",
    "\n",
    "* Jupyter Notebook\n",
    "\n",
    "[带上🔗]:(可以带上🔗)"
   ]
  },
  {
   "cell_type": "markdown",
   "id": "0d454da7-b221-488a-bbb9-fba50d9eba49",
   "metadata": {},
   "source": [
    "### Jupyter：写Markdown     \n",
    "自己看一下，需要去查。    \n",
    "\n",
    "写code：   "
   ]
  },
  {
   "cell_type": "markdown",
   "id": "874a8f77-00d0-4814-b884-f7b8efa20f0b",
   "metadata": {},
   "source": [
    "### Jupyter:魔法命令等   \n",
    "> 就是能在这里执行一些不太像是这里干的事情（不是python语法），比如使用`shell`命令，一些装饰操作的测试。    \n",
    "\n",
    "- `%run`, `%timeit`, 加载本地py文件代码， save到本地文件。     \n",
    "- `! some-shell-command`\n",
    "- ...\n",
    "\n",
    "\n",
    "有你想在这里做的事情，就去搜有没有对应的命令就行，不需要记住。"
   ]
  },
  {
   "cell_type": "code",
   "execution_count": null,
   "id": "9ae627b6-d30d-424c-bd10-d42cbce7541f",
   "metadata": {},
   "outputs": [],
   "source": []
  },
  {
   "cell_type": "code",
   "execution_count": null,
   "id": "f87afc0b-0326-4284-b713-eb5819222229",
   "metadata": {},
   "outputs": [],
   "source": []
  },
  {
   "cell_type": "code",
   "execution_count": null,
   "id": "225e4cfc-9d73-4cac-aa93-bb18c2349fca",
   "metadata": {},
   "outputs": [],
   "source": []
  },
  {
   "cell_type": "markdown",
   "id": "1f354c8d-f3d3-45bd-b041-d2ec28b76fd8",
   "metadata": {
    "tags": []
   },
   "source": [
    "## 一些小tips "
   ]
  },
  {
   "cell_type": "code",
   "execution_count": 1,
   "id": "b493502c-97fb-494a-a468-d5511f019cb9",
   "metadata": {},
   "outputs": [
    {
     "data": {
      "text/plain": [
       "'\\n\\n这也是注释 ,多行注释\\n\\n'"
      ]
     },
     "execution_count": 1,
     "metadata": {},
     "output_type": "execute_result"
    }
   ],
   "source": [
    "#   这是注释 快捷键为 ctrl+/\n",
    "\n",
    "\n",
    "'''\n",
    "\n",
    "这也是注释 ,多行注释\n",
    "\n",
    "'''"
   ]
  }
 ],
 "metadata": {
  "kernelspec": {
   "display_name": "Python 3 (ipykernel)",
   "language": "python",
   "name": "python3"
  },
  "language_info": {
   "codemirror_mode": {
    "name": "ipython",
    "version": 3
   },
   "file_extension": ".py",
   "mimetype": "text/x-python",
   "name": "python",
   "nbconvert_exporter": "python",
   "pygments_lexer": "ipython3",
   "version": "3.9.12"
  }
 },
 "nbformat": 4,
 "nbformat_minor": 5
}
