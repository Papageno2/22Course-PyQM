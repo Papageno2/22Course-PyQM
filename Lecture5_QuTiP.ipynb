{
 "cells": [
  {
   "cell_type": "markdown",
   "id": "fa6951f7-75cb-498f-85be-1294c30e9ef4",
   "metadata": {
    "tags": []
   },
   "source": [
    "# Lecture 4  Qutip基础介绍\n"
   ]
  },
  {
   "cell_type": "markdown",
   "id": "a915c1e1-d760-4955-ac8e-d8b6bc361884",
   "metadata": {},
   "source": [
    "## [Qutip](https://qutip.org/)"
   ]
  },
  {
   "cell_type": "markdown",
   "id": "c7673a11-bfe2-48b5-a71a-b7f2281a16b4",
   "metadata": {
    "tags": []
   },
   "source": [
    "### 简介\n"
   ]
  },
  {
   "cell_type": "markdown",
   "id": "90bbf879-4720-4e50-ad29-1f13686c4cfb",
   "metadata": {},
   "source": [
    "Qutip是一个功能强大的量子力学计算工具包，可以用来模拟计算各种复杂的量子系统动力学问题。在量子光学、量子信息等领域具有重要应用。"
   ]
  },
  {
   "cell_type": "code",
   "execution_count": 1,
   "id": "7acca49b-65b1-4908-86e3-82a86a3a819f",
   "metadata": {},
   "outputs": [],
   "source": [
    "import qutip as qt"
   ]
  },
  {
   "cell_type": "markdown",
   "id": "3ca3d059-7dd1-48ee-bfea-e1e671fde845",
   "metadata": {},
   "source": [
    "### Quantum object class"
   ]
  },
  {
   "cell_type": "markdown",
   "id": "e831266a-b44c-4dde-a5eb-25ec5cbbd68b",
   "metadata": {},
   "source": [
    "`QuTiP`包的核心是`Qobj`类，用于表示量子对象，如状态和算符。`Qobj`类包含描述量子系统所需的所有信息。"
   ]
  },
  {
   "cell_type": "code",
   "execution_count": 6,
   "id": "cd47c969-54e4-47fa-831e-9fbb7b2991dc",
   "metadata": {},
   "outputs": [
    {
     "data": {
      "text/html": [
       "<img src=\"./qobj.png\" style=\"zoom:150%\" />\n"
      ],
      "text/plain": [
       "<IPython.core.display.HTML object>"
      ]
     },
     "metadata": {},
     "output_type": "display_data"
    }
   ],
   "source": [
    "%%HTML\n",
    "<img src=\"./qobj.png\" style=\"zoom:150%\" />"
   ]
  },
  {
   "cell_type": "markdown",
   "id": "5c48e0e0-91aa-4156-9ff2-a09a83e9238c",
   "metadata": {
    "tags": []
   },
   "source": [
    "### 创建Quantum object class"
   ]
  },
  {
   "cell_type": "code",
   "execution_count": 8,
   "id": "9160ead6-340f-4e10-bbaf-3a0c646e11dd",
   "metadata": {},
   "outputs": [
    {
     "data": {
      "text/latex": [
       "Quantum object: dims = [[2], [1]], shape = (2, 1), type = ket\\begin{equation*}\\left(\\begin{array}{*{11}c}1.0\\\\0.0\\\\\\end{array}\\right)\\end{equation*}"
      ],
      "text/plain": [
       "Quantum object: dims = [[2], [1]], shape = (2, 1), type = ket\n",
       "Qobj data =\n",
       "[[1.]\n",
       " [0.]]"
      ]
     },
     "execution_count": 8,
     "metadata": {},
     "output_type": "execute_result"
    }
   ],
   "source": [
    "q = qt.Qobj([[1], [0]])\n",
    "\n",
    "q"
   ]
  },
  {
   "cell_type": "markdown",
   "id": "5dce6be1-aed4-4d63-a831-549a515a52e1",
   "metadata": {},
   "source": [
    "这里我们将python列表作为参数传递给类构造函数。此列表中的数据用于构建量子对象的矩阵表示，默认情况下，量子对象的其他属性由相同的数据计算得出。"
   ]
  },
  {
   "cell_type": "markdown",
   "id": "3b1371ed-3c98-42b4-9d87-86be59fa4c55",
   "metadata": {},
   "source": [
    "#### 态和算符"
   ]
  },
  {
   "cell_type": "markdown",
   "id": "0b411fad-b9c5-402e-a1a4-42248f2917b1",
   "metadata": {},
   "source": [
    "采用`Qobj`手动指定每个量子对象的数据效率很低。对于大多数常用的算符和态，如谐振子的升降算符、两能级系统的泡利自旋算符或Fock态等态矢向量时，更是如此。因此，`QuTiP`已经预定义各种态矢和算符："
   ]
  },
  {
   "cell_type": "markdown",
   "id": "358182b4-6a39-468c-9675-f19deccf67e1",
   "metadata": {},
   "source": [
    "| 态 | 函数命令 | 含义| \n",
    "|---|------ |----|\n",
    "| Fock态|  `basis(N,m)`/`fock(N,m)`  | 希尔伯特空间维数为$ N $,$m$为能级数。 |\n",
    "|Fock态密度矩阵|`fock_dm(N,m)`|希尔伯特空间维数为$ N $,$m$为能级数。 |\n",
    "|相干态|`coherent(N,α)`| 希尔伯特空间维数为$ N $,$\\alpha$为复数。|\n",
    "|相干态密度矩阵|`coherent_dm(N,α)`| 希尔伯特空间维数为$ N $,$\\alpha$为复数。|"
   ]
  },
  {
   "cell_type": "code",
   "execution_count": 11,
   "id": "ddb9d96e-72fc-4abc-9e55-8c3fbecd9111",
   "metadata": {},
   "outputs": [
    {
     "data": {
      "text/latex": [
       "Quantum object: dims = [[5], [1]], shape = (5, 1), type = ket\\begin{equation*}\\left(\\begin{array}{*{11}c}1.0\\\\0.0\\\\0.0\\\\0.0\\\\0.0\\\\\\end{array}\\right)\\end{equation*}"
      ],
      "text/plain": [
       "Quantum object: dims = [[5], [1]], shape = (5, 1), type = ket\n",
       "Qobj data =\n",
       "[[1.]\n",
       " [0.]\n",
       " [0.]\n",
       " [0.]\n",
       " [0.]]"
      ]
     },
     "execution_count": 11,
     "metadata": {},
     "output_type": "execute_result"
    }
   ],
   "source": [
    "qt.fock(5,0)"
   ]
  },
  {
   "cell_type": "code",
   "execution_count": 12,
   "id": "04f50a5b-e00f-4268-867d-2e3d3f512371",
   "metadata": {},
   "outputs": [
    {
     "data": {
      "text/latex": [
       "Quantum object: dims = [[5], [1]], shape = (5, 1), type = ket\\begin{equation*}\\left(\\begin{array}{*{11}c}0.369\\\\(0.365+0.365j)\\\\0.537j\\\\(-0.265+0.265j)\\\\-0.411\\\\\\end{array}\\right)\\end{equation*}"
      ],
      "text/plain": [
       "Quantum object: dims = [[5], [1]], shape = (5, 1), type = ket\n",
       "Qobj data =\n",
       "[[ 0.36854204+0.j        ]\n",
       " [ 0.36487578+0.36487578j]\n",
       " [ 0.        +0.53742547j]\n",
       " [-0.26503654+0.26503654j]\n",
       " [-0.41060105+0.j        ]]"
      ]
     },
     "execution_count": 12,
     "metadata": {},
     "output_type": "execute_result"
    }
   ],
   "source": [
    "qt.coherent(5,1+1.j)"
   ]
  },
  {
   "cell_type": "markdown",
   "id": "1d6e0788-25fa-4767-afce-203cd4e23483",
   "metadata": {},
   "source": [
    "| 算符 | 函数命令 | 含义| \n",
    "|---|------ |----|\n",
    "| $\\sigma_x  $|  `sigmax()`  | Pauli算符$\\sigma_x  $ |\n",
    "| $\\sigma_y  $|  `sigmay()`  | Pauli算符$\\sigma_y  $ |\n",
    "| $\\sigma_z  $|  `sigmaz()`  | Pauli算符$\\sigma_z  $ |\n",
    "|单位算符|`qeye(N)`|希尔伯特空间维数为$ N $的单位算符。 |\n",
    "|湮灭算符|`destroy(N)`| 希尔伯特空间维数为$ N $的湮灭算符。|\n",
    "|产生算符|`create(N)`| 希尔伯特空间维数为$ N $的产生算符。|"
   ]
  },
  {
   "cell_type": "code",
   "execution_count": 13,
   "id": "efd35489-5702-4af8-b22a-35cb1d98771c",
   "metadata": {},
   "outputs": [
    {
     "data": {
      "text/latex": [
       "Quantum object: dims = [[2], [2]], shape = (2, 2), type = oper, isherm = True\\begin{equation*}\\left(\\begin{array}{*{11}c}0.0 & 1.0\\\\1.0 & 0.0\\\\\\end{array}\\right)\\end{equation*}"
      ],
      "text/plain": [
       "Quantum object: dims = [[2], [2]], shape = (2, 2), type = oper, isherm = True\n",
       "Qobj data =\n",
       "[[0. 1.]\n",
       " [1. 0.]]"
      ]
     },
     "execution_count": 13,
     "metadata": {},
     "output_type": "execute_result"
    }
   ],
   "source": [
    "qt.sigmax()"
   ]
  },
  {
   "cell_type": "code",
   "execution_count": 14,
   "id": "25653ed9-74bf-4c5a-8512-6e1c607d7e82",
   "metadata": {},
   "outputs": [
    {
     "data": {
      "text/latex": [
       "Quantum object: dims = [[4], [4]], shape = (4, 4), type = oper, isherm = True\\begin{equation*}\\left(\\begin{array}{*{11}c}1.0 & 0.0 & 0.0 & 0.0\\\\0.0 & 1.0 & 0.0 & 0.0\\\\0.0 & 0.0 & 1.0 & 0.0\\\\0.0 & 0.0 & 0.0 & 1.0\\\\\\end{array}\\right)\\end{equation*}"
      ],
      "text/plain": [
       "Quantum object: dims = [[4], [4]], shape = (4, 4), type = oper, isherm = True\n",
       "Qobj data =\n",
       "[[1. 0. 0. 0.]\n",
       " [0. 1. 0. 0.]\n",
       " [0. 0. 1. 0.]\n",
       " [0. 0. 0. 1.]]"
      ]
     },
     "execution_count": 14,
     "metadata": {},
     "output_type": "execute_result"
    }
   ],
   "source": [
    "qt.qeye(4)"
   ]
  },
  {
   "cell_type": "code",
   "execution_count": 15,
   "id": "cc412fd7-9202-4d83-9c6b-88c5cc8200b7",
   "metadata": {},
   "outputs": [
    {
     "data": {
      "text/latex": [
       "Quantum object: dims = [[3], [3]], shape = (3, 3), type = oper, isherm = False\\begin{equation*}\\left(\\begin{array}{*{11}c}0.0 & 1.0 & 0.0\\\\0.0 & 0.0 & 1.414\\\\0.0 & 0.0 & 0.0\\\\\\end{array}\\right)\\end{equation*}"
      ],
      "text/plain": [
       "Quantum object: dims = [[3], [3]], shape = (3, 3), type = oper, isherm = False\n",
       "Qobj data =\n",
       "[[0.         1.         0.        ]\n",
       " [0.         0.         1.41421356]\n",
       " [0.         0.         0.        ]]"
      ]
     },
     "execution_count": 15,
     "metadata": {},
     "output_type": "execute_result"
    }
   ],
   "source": [
    "qt.destroy(3)"
   ]
  },
  {
   "cell_type": "code",
   "execution_count": null,
   "id": "d65cc004-6a95-4407-8e65-798389391fbe",
   "metadata": {},
   "outputs": [],
   "source": []
  },
  {
   "cell_type": "code",
   "execution_count": null,
   "id": "c2208b7f-af31-40f3-9da8-e6ee055e0ed6",
   "metadata": {},
   "outputs": [
    {
     "name": "stdout",
     "output_type": "stream",
     "text": [
      "\n",
      "QuTiP: Quantum Toolbox in Python\n",
      "================================\n",
      "Copyright (c) QuTiP team 2011 and later.\n",
      "Current admin team: Alexander Pitchford, Nathan Shammah, Shahnawaz Ahmed, Neill Lambert, Eric Giguère, Boxi Li, Jake Lishman and Simon Cross.\n",
      "Board members: Daniel Burgarth, Robert Johansson, Anton F. Kockum, Franco Nori and Will Zeng.\n",
      "Original developers: R. J. Johansson & P. D. Nation.\n",
      "Previous lead developers: Chris Granade & A. Grimsmo.\n",
      "Currently developed through wide collaboration. See https://github.com/qutip for details.\n",
      "\n",
      "QuTiP Version:      4.7.0\n",
      "Numpy Version:      1.21.5\n",
      "Scipy Version:      1.7.3\n",
      "Cython Version:     0.29.28\n",
      "Matplotlib Version: 3.5.1\n",
      "Python Version:     3.9.12\n",
      "Number of CPUs:     64\n",
      "BLAS Info:          INTEL MKL\n",
      "OPENMP Installed:   False\n",
      "INTEL MKL Ext:      True\n",
      "Platform Info:      Linux (x86_64)\n",
      "Installation path:  /home/mx/.local/lib/python3.9/site-packages/qutip\n",
      "================================================================================\n",
      "Please cite QuTiP in your publication.\n",
      "================================================================================\n",
      "For your convenience a bibtex reference can be easily generated using `qutip.cite()`\n"
     ]
    }
   ],
   "source": [
    "qt.about()"
   ]
  },
  {
   "cell_type": "markdown",
   "id": "947e67db-385a-4320-b817-eeefeb4311d5",
   "metadata": {},
   "source": [
    "**动手做，现用现学。**"
   ]
  },
  {
   "cell_type": "code",
   "execution_count": null,
   "id": "ba64b050-c5f6-4c49-a459-7f8236d65799",
   "metadata": {},
   "outputs": [],
   "source": []
  }
 ],
 "metadata": {
  "kernelspec": {
   "display_name": "Python 3 (ipykernel)",
   "language": "python",
   "name": "python3"
  },
  "language_info": {
   "codemirror_mode": {
    "name": "ipython",
    "version": 3
   },
   "file_extension": ".py",
   "mimetype": "text/x-python",
   "name": "python",
   "nbconvert_exporter": "python",
   "pygments_lexer": "ipython3",
   "version": "3.9.12"
  }
 },
 "nbformat": 4,
 "nbformat_minor": 5
}
