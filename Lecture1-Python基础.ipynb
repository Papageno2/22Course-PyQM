{
 "cells": [
  {
   "cell_type": "markdown",
   "id": "d595be0f",
   "metadata": {
    "tags": []
   },
   "source": [
    "# Lecture 1 Python基础介绍\n",
    "[Author:MoXiong]:(创建日期：2022-07-16,最近编辑日期：2022-07-19,需要修改提升的地方：作业没布置，整体结构是否需要调整？数据类型转换添加,第一节课简单的引入一下，题目用作课后习题，比较简单，其实lecture0和lecture1可以一起讲，homework简单一些，课后完成比较合适。教学目标：让学生对python和jupyter有个印象，对一些基础的概念熟悉，逐步形成自主解决的能力)"
   ]
  },
  {
   "cell_type": "markdown",
   "id": "eb19439e-b344-4b07-8db7-3e42eee5d71a",
   "metadata": {},
   "source": [
    ">   **语法块：使用缩进，而不是括号！！！**"
   ]
  },
  {
   "cell_type": "markdown",
   "id": "6c417dc3-9a6e-4f72-ad94-f3427eb52857",
   "metadata": {
    "tags": []
   },
   "source": [
    "## 调用库，调用模块 "
   ]
  },
  {
   "cell_type": "markdown",
   "id": "75fc406a-b5f8-42dc-8c6e-b1b92eed2758",
   "metadata": {
    "tags": []
   },
   "source": [
    "常用的方式：\n",
    "``` python\n",
    "import 刘德华 as xl\n",
    "from some_big_module  import some_submodule\n",
    "```"
   ]
  },
  {
   "cell_type": "markdown",
   "id": "9eabeea7-7dd6-41c2-9066-7511a6df72ea",
   "metadata": {},
   "source": [
    "* 将模块(模块中的函数)导入 `import pandas as pd `\n",
    "* 将模块中的某个模块导入`from scipy import optimize ,integrate`\n",
    "* 将模块中的全部函数导入`from qutip import *`"
   ]
  },
  {
   "cell_type": "code",
   "execution_count": 18,
   "id": "99e82a33-576b-46ca-bc2b-039605a891ef",
   "metadata": {},
   "outputs": [],
   "source": [
    "import pandas as pd\n",
    "from scipy import optimize, integrate\n",
    "from qutip import *\n",
    "import numpy as np"
   ]
  },
  {
   "cell_type": "code",
   "execution_count": 19,
   "id": "8212c200-4bec-45b3-8c2e-b4e2bbf8dba4",
   "metadata": {},
   "outputs": [],
   "source": [
    "arr = np.random.random((4,6))"
   ]
  },
  {
   "cell_type": "code",
   "execution_count": 20,
   "id": "9feabd93-7afc-4297-a198-90ce13aeb0c3",
   "metadata": {},
   "outputs": [
    {
     "data": {
      "text/plain": [
       "array([[0.31330773, 0.90484406, 0.66812685, 0.13981181, 0.19848427,\n",
       "        0.1263507 ],\n",
       "       [0.65872641, 0.47628803, 0.5856709 , 0.09358674, 0.49114815,\n",
       "        0.21599319],\n",
       "       [0.88423719, 0.56123092, 0.72505624, 0.37565984, 0.9470245 ,\n",
       "        0.01618269],\n",
       "       [0.2978858 , 0.20446498, 0.84144862, 0.4357691 , 0.77582944,\n",
       "        0.63201941]])"
      ]
     },
     "execution_count": 20,
     "metadata": {},
     "output_type": "execute_result"
    }
   ],
   "source": [
    "arr"
   ]
  },
  {
   "cell_type": "code",
   "execution_count": null,
   "id": "d80f5070-c2bd-4dd6-85e7-b2de660c29ac",
   "metadata": {},
   "outputs": [],
   "source": []
  },
  {
   "cell_type": "code",
   "execution_count": 30,
   "id": "cd12fdb7-988d-4d06-a818-024475c9a957",
   "metadata": {},
   "outputs": [
    {
     "data": {
      "text/html": [
       "<div>\n",
       "<style scoped>\n",
       "    .dataframe tbody tr th:only-of-type {\n",
       "        vertical-align: middle;\n",
       "    }\n",
       "\n",
       "    .dataframe tbody tr th {\n",
       "        vertical-align: top;\n",
       "    }\n",
       "\n",
       "    .dataframe thead th {\n",
       "        text-align: right;\n",
       "    }\n",
       "</style>\n",
       "<table border=\"1\" class=\"dataframe\">\n",
       "  <thead>\n",
       "    <tr style=\"text-align: right;\">\n",
       "      <th></th>\n",
       "      <th>0</th>\n",
       "      <th>1</th>\n",
       "      <th>2</th>\n",
       "      <th>3</th>\n",
       "      <th>4</th>\n",
       "      <th>5</th>\n",
       "    </tr>\n",
       "  </thead>\n",
       "  <tbody>\n",
       "    <tr>\n",
       "      <th>0</th>\n",
       "      <td>0.313308</td>\n",
       "      <td>0.904844</td>\n",
       "      <td>0.668127</td>\n",
       "      <td>0.139812</td>\n",
       "      <td>0.198484</td>\n",
       "      <td>0.126351</td>\n",
       "    </tr>\n",
       "    <tr>\n",
       "      <th>1</th>\n",
       "      <td>0.658726</td>\n",
       "      <td>0.476288</td>\n",
       "      <td>0.585671</td>\n",
       "      <td>0.093587</td>\n",
       "      <td>0.491148</td>\n",
       "      <td>0.215993</td>\n",
       "    </tr>\n",
       "    <tr>\n",
       "      <th>2</th>\n",
       "      <td>0.884237</td>\n",
       "      <td>0.561231</td>\n",
       "      <td>0.725056</td>\n",
       "      <td>0.375660</td>\n",
       "      <td>0.947024</td>\n",
       "      <td>0.016183</td>\n",
       "    </tr>\n",
       "    <tr>\n",
       "      <th>3</th>\n",
       "      <td>0.297886</td>\n",
       "      <td>0.204465</td>\n",
       "      <td>0.841449</td>\n",
       "      <td>0.435769</td>\n",
       "      <td>0.775829</td>\n",
       "      <td>0.632019</td>\n",
       "    </tr>\n",
       "  </tbody>\n",
       "</table>\n",
       "</div>"
      ],
      "text/plain": [
       "          0         1         2         3         4         5\n",
       "0  0.313308  0.904844  0.668127  0.139812  0.198484  0.126351\n",
       "1  0.658726  0.476288  0.585671  0.093587  0.491148  0.215993\n",
       "2  0.884237  0.561231  0.725056  0.375660  0.947024  0.016183\n",
       "3  0.297886  0.204465  0.841449  0.435769  0.775829  0.632019"
      ]
     },
     "execution_count": 30,
     "metadata": {},
     "output_type": "execute_result"
    }
   ],
   "source": [
    "df = pd.DataFrame( data=arr)\n",
    "df"
   ]
  },
  {
   "cell_type": "markdown",
   "id": "156fc770",
   "metadata": {
    "tags": []
   },
   "source": [
    "## 数据类型和变量"
   ]
  },
  {
   "cell_type": "markdown",
   "id": "fcc733ea",
   "metadata": {
    "tags": []
   },
   "source": [
    "* Number(数字)：  \n",
    "int(整型) $~~$  bool(布尔) $~~$  float(浮点数)  $~~$   complex(复数)\n",
    "* String(字符串)\n",
    "* Tuple(元组)\n",
    "* List(列表)\n",
    "* Set(集合)\n",
    "* Dictionary(字典)  \n",
    "\n",
    "* NonType,其它奇奇怪怪的。。。\n",
    "\n",
    "[备注]:(前三个为不可变数据，后三个为可变数据)"
   ]
  },
  {
   "cell_type": "markdown",
   "id": "368cdf79",
   "metadata": {
    "tags": []
   },
   "source": [
    "### Number"
   ]
  },
  {
   "cell_type": "code",
   "execution_count": 1,
   "id": "c0a2550e",
   "metadata": {},
   "outputs": [
    {
     "name": "stdout",
     "output_type": "stream",
     "text": [
      "<class 'int'> <class 'bool'> <class 'float'> <class 'complex'>\n"
     ]
    }
   ],
   "source": [
    "a = 1\n",
    "b = True #False\n",
    "c = -233.0000\n",
    "d = 1 + 1.0j \n",
    "print(type(a),type(b),type(c),type(d))"
   ]
  },
  {
   "cell_type": "code",
   "execution_count": 4,
   "id": "05bca9cb-1523-4dcc-9037-adae11986316",
   "metadata": {},
   "outputs": [
    {
     "name": "stdout",
     "output_type": "stream",
     "text": [
      "<class 'str'>\n"
     ]
    }
   ],
   "source": [
    "a='hahah'\n",
    "print(type(a))"
   ]
  },
  {
   "cell_type": "code",
   "execution_count": 5,
   "id": "753b1dae",
   "metadata": {},
   "outputs": [
    {
     "name": "stdout",
     "output_type": "stream",
     "text": [
      "False False\n"
     ]
    }
   ],
   "source": [
    "print(isinstance(a,bool), isinstance(a,int))"
   ]
  },
  {
   "cell_type": "markdown",
   "id": "05a12d91-3109-4577-9b05-85c40afde155",
   "metadata": {},
   "source": [
    ">   **什么是`class` 与 `instance` ?**"
   ]
  },
  {
   "cell_type": "code",
   "execution_count": null,
   "id": "e36cd06d-ad3c-41b0-aac3-fd5b6d18bf3a",
   "metadata": {},
   "outputs": [],
   "source": []
  },
  {
   "cell_type": "markdown",
   "id": "2c5854b7-194c-4902-931d-f5ad6dcc3788",
   "metadata": {},
   "source": [
    "#### Dynamical typing  "
   ]
  },
  {
   "cell_type": "code",
   "execution_count": 9,
   "id": "4e9f34a5-d725-49b6-ac10-cfe4ce2a43fa",
   "metadata": {},
   "outputs": [
    {
     "name": "stdout",
     "output_type": "stream",
     "text": [
      "<class 'int'>\n"
     ]
    }
   ],
   "source": [
    "a = 1\n",
    "print(type(a))"
   ]
  },
  {
   "cell_type": "code",
   "execution_count": 10,
   "id": "4ca8deb2-112a-4513-8d7d-cd8768d7b9cc",
   "metadata": {},
   "outputs": [
    {
     "name": "stdout",
     "output_type": "stream",
     "text": [
      "<class 'float'>\n"
     ]
    }
   ],
   "source": [
    "a = 3.14\n",
    "print(type(a))"
   ]
  },
  {
   "cell_type": "code",
   "execution_count": 13,
   "id": "1bae424e-089b-4f3f-a0d7-b30de80c6234",
   "metadata": {},
   "outputs": [
    {
     "name": "stdout",
     "output_type": "stream",
     "text": [
      "<class 'str'>\n"
     ]
    }
   ],
   "source": [
    "a = 'hahhahah'\n",
    "print(type(a))"
   ]
  },
  {
   "cell_type": "code",
   "execution_count": 14,
   "id": "60de5df2-fc60-49e1-9be5-b0f4095aaf21",
   "metadata": {},
   "outputs": [
    {
     "data": {
      "text/plain": [
       "'hahhahah'"
      ]
     },
     "execution_count": 14,
     "metadata": {},
     "output_type": "execute_result"
    }
   ],
   "source": [
    "a"
   ]
  },
  {
   "cell_type": "code",
   "execution_count": 12,
   "id": "8c90d1f2",
   "metadata": {},
   "outputs": [
    {
     "ename": "NameError",
     "evalue": "name 'a' is not defined",
     "output_type": "error",
     "traceback": [
      "\u001b[0;31m---------------------------------------------------------------------------\u001b[0m",
      "\u001b[0;31mNameError\u001b[0m                                 Traceback (most recent call last)",
      "Input \u001b[0;32mIn [12]\u001b[0m, in \u001b[0;36m<cell line: 2>\u001b[0;34m()\u001b[0m\n\u001b[1;32m      1\u001b[0m \u001b[38;5;28;01mdel\u001b[39;00m a\n\u001b[0;32m----> 2\u001b[0m \u001b[43ma\u001b[49m\n",
      "\u001b[0;31mNameError\u001b[0m: name 'a' is not defined"
     ]
    }
   ],
   "source": [
    "del a\n",
    "a"
   ]
  },
  {
   "cell_type": "markdown",
   "id": "9bed8f5f",
   "metadata": {},
   "source": [
    "算数运算符\n",
    "\n",
    "| 算数运算符 | 描述 | 例子 |\n",
    "| ------ | ------ | ------ |\n",
    "| `+` | 加 | `1+1 = 2 ` |\n",
    "| `-` | 减 | `5-6 = -1` |\n",
    "| `*` | 乘 | `3*4 = 12 ` |\n",
    "| `/` | 除 | ` 5/2 = 2.5 ` |\n",
    "| `%` | 取余 | `5%2 = 1 ` |\n",
    "| `**` | 幂 | `5**2 = 25` |\n",
    "| `//` | 向下取整 | `5//2 = 2 ` |\n",
    "\n",
    "赋值运算符\n",
    "\n",
    "| 赋值运算符 | 描述 | 例子 |\n",
    "| ------ | ------ | ------ |\n",
    "| `=` | 等号右侧值赋给左侧 | `a = 2 ` 把 2 赋给 a |\n",
    "| `+=` | 加法赋值运算符 | `a += b ` 等效于` a = a + b `|\n",
    "| `-=` | 减法赋值运算符 | `a -= b` 等效于` a = a - b `|\n",
    "| `*=` | 乘法赋值运算符 | `a *= b ` 等效于` a = a * b `|\n",
    "| `/=` | 除法赋值运算符 | ` a /= b ` 等效于` a = a / b `|\n",
    "| `%=` | 取余赋值运算符 | `a %= b` 等效于` a = a % b `|\n",
    "| `**=` | 幂赋值运算符 | `a **= b`等效于` a = a ** b ` |\n",
    "| `//=` | 向下取整赋值运算符 | `a //= b ` 等效于` a = a // b `|\n",
    "\n",
    "逻辑运算符\n",
    "\n",
    "| 逻辑运算符 | 描述 | 例子 |\n",
    "| ------ | ------ | ------ |\n",
    "| `and` | 布尔'与',如果x为`False`返回x的值，否则返回y的值 | `x and y ` |\n",
    "| `or` | 布尔'或',如果x为`True`返回x的值，否则返回y的值 | `x or y `|\n",
    "| `not` | 布尔'非',如果x为`True`返回`False`，否则返回`Ture`的值| `not x ` |\n",
    "\n",
    "\n",
    "\n"
   ]
  },
  {
   "cell_type": "code",
   "execution_count": 15,
   "id": "644d0101",
   "metadata": {},
   "outputs": [
    {
     "name": "stdout",
     "output_type": "stream",
     "text": [
      "a +=7\n",
      "a -=4\n",
      "a **=16\n"
     ]
    }
   ],
   "source": [
    "a = 5\n",
    "a += 2\n",
    "print(f'a +={a}')\n",
    "a -= 3\n",
    "print(f'a -={a}')\n",
    "a **= 2\n",
    "print(f'a **={a}')"
   ]
  },
  {
   "cell_type": "markdown",
   "id": "1f3a161b",
   "metadata": {
    "tags": []
   },
   "source": [
    "### String"
   ]
  },
  {
   "cell_type": "markdown",
   "id": "ba359800",
   "metadata": {},
   "source": [
    "字符串一般会用单引号或者`'`或者双引号`\"`括起来，有时会使用反斜杠`\\`转移特殊字符"
   ]
  },
  {
   "cell_type": "code",
   "execution_count": 16,
   "id": "e1fb5647",
   "metadata": {},
   "outputs": [],
   "source": [
    "firstname = \"Quantum\"\n",
    "secondname = 'Mechanics'"
   ]
  },
  {
   "cell_type": "markdown",
   "id": "ecb888e0",
   "metadata": {
    "tags": []
   },
   "source": [
    "\n",
    "\n",
    "|  |  |   |   |   |    |    |    |\n",
    "| ------ | ------ | ------ | ------ | ------ | ------ | ------ | ------ |\n",
    "| 从前索引 | 0 | 1 | 2 | 3 | 4 | 5 | 6 |   \n",
    "| 从后索引 |-7 | -6 | -5 | -4 | -3 | -2 | -1 |\n",
    "|         |  Q | u | a | n | t | u | m |\n"
   ]
  },
  {
   "cell_type": "code",
   "execution_count": 20,
   "id": "d10188b6",
   "metadata": {},
   "outputs": [
    {
     "name": "stdout",
     "output_type": "stream",
     "text": [
      "Qua m\n"
     ]
    }
   ],
   "source": [
    "print(firstname[0:3], firstname[-1])"
   ]
  },
  {
   "cell_type": "code",
   "execution_count": 19,
   "id": "cea5030e-5dd1-4c99-8e19-0188cd970abb",
   "metadata": {},
   "outputs": [
    {
     "data": {
      "text/plain": [
       "'u'"
      ]
     },
     "execution_count": 19,
     "metadata": {},
     "output_type": "execute_result"
    }
   ],
   "source": [
    "firstname[-2]"
   ]
  },
  {
   "cell_type": "code",
   "execution_count": 8,
   "id": "711f3441",
   "metadata": {},
   "outputs": [
    {
     "name": "stdout",
     "output_type": "stream",
     "text": [
      "antu\n"
     ]
    }
   ],
   "source": [
    "print(firstname[2:-1]) #截取遵循左闭右开原则"
   ]
  },
  {
   "cell_type": "code",
   "execution_count": 22,
   "id": "5fd4db6a",
   "metadata": {},
   "outputs": [
    {
     "name": "stdout",
     "output_type": "stream",
     "text": [
      "Quantum_Mechanics\n"
     ]
    }
   ],
   "source": [
    "print(firstname+'_'+secondname)"
   ]
  },
  {
   "cell_type": "markdown",
   "id": "c072d2e9",
   "metadata": {},
   "source": [
    "成员运算符\n",
    "\n",
    "| 成员运算符 | 描述 | 例子 |\n",
    "| ------ | ------ | ------ |\n",
    "| `in` | 如果在指定的序列中找到值返回`True`，否则返回`False`。| `x in ['1','2'] `返回`False ` |\n",
    "| `not in` |如果在指定的序列中找到值返回`False`，否则返回`True` | `x in ['1','2'] `返回`True `|"
   ]
  },
  {
   "cell_type": "code",
   "execution_count": 29,
   "id": "68f75a8a",
   "metadata": {},
   "outputs": [
    {
     "data": {
      "text/plain": [
       "True"
      ]
     },
     "execution_count": 29,
     "metadata": {},
     "output_type": "execute_result"
    }
   ],
   "source": [
    "'Q' in firstname"
   ]
  },
  {
   "cell_type": "code",
   "execution_count": 24,
   "id": "1832ec18-0681-4d87-9350-df13c54fe6b6",
   "metadata": {},
   "outputs": [
    {
     "name": "stdout",
     "output_type": "stream",
     "text": [
      "0\n",
      "1\n",
      "2\n",
      "3\n",
      "4\n",
      "5\n",
      "6\n",
      "7\n",
      "8\n",
      "9\n"
     ]
    }
   ],
   "source": [
    "for i in range(0,10):\n",
    "    print(i)"
   ]
  },
  {
   "cell_type": "code",
   "execution_count": 25,
   "id": "4fcfcacc",
   "metadata": {},
   "outputs": [
    {
     "ename": "TypeError",
     "evalue": "'str' object does not support item assignment",
     "output_type": "error",
     "traceback": [
      "\u001b[0;31m---------------------------------------------------------------------------\u001b[0m",
      "\u001b[0;31mTypeError\u001b[0m                                 Traceback (most recent call last)",
      "Input \u001b[0;32mIn [25]\u001b[0m, in \u001b[0;36m<cell line: 1>\u001b[0;34m()\u001b[0m\n\u001b[0;32m----> 1\u001b[0m firstname[\u001b[38;5;241m0\u001b[39m] \u001b[38;5;241m=\u001b[39m \u001b[38;5;124m'\u001b[39m\u001b[38;5;124mq\u001b[39m\u001b[38;5;124m'\u001b[39m\n",
      "\u001b[0;31mTypeError\u001b[0m: 'str' object does not support item assignment"
     ]
    }
   ],
   "source": [
    "firstname[0] = 'q'"
   ]
  },
  {
   "cell_type": "markdown",
   "id": "79f53526",
   "metadata": {},
   "source": [
    "------"
   ]
  },
  {
   "cell_type": "markdown",
   "id": "f7c9164d",
   "metadata": {},
   "source": [
    "常见转义字符\n",
    "\n",
    "| 转义字符 | 描述 |\n",
    "| ------ | ------ | \n",
    "| `\\` | 续行符 | \n",
    "| `\\\\` | 反斜杠符号 |\n",
    "| `\\'` | 单引号 |\n",
    "| `\\\"` | 双引号 | \n",
    "| `\\b` | 退格 |  \n",
    "| `\\000` | 空 | \n",
    "| `\\n` | 换行 | \n"
   ]
  },
  {
   "cell_type": "markdown",
   "id": "f2a2359e",
   "metadata": {},
   "source": [
    "`r`(raw)可以使字符不发生转义"
   ]
  },
  {
   "cell_type": "code",
   "execution_count": 10,
   "id": "15441a90",
   "metadata": {},
   "outputs": [
    {
     "name": "stdout",
     "output_type": "stream",
     "text": [
      "Hello!\n",
      "Hi!\n"
     ]
    }
   ],
   "source": [
    "print('Hello!\\nHi!')"
   ]
  },
  {
   "cell_type": "code",
   "execution_count": 11,
   "id": "6ebaaa5d",
   "metadata": {},
   "outputs": [
    {
     "name": "stdout",
     "output_type": "stream",
     "text": [
      "Hello!\\nHi!\n"
     ]
    }
   ],
   "source": [
    "print(r'Hello!\\nHi!')"
   ]
  },
  {
   "cell_type": "markdown",
   "id": "f481dc0d",
   "metadata": {},
   "source": [
    "---"
   ]
  },
  {
   "cell_type": "markdown",
   "id": "d8981c86",
   "metadata": {},
   "source": [
    "python 字符串格式化"
   ]
  },
  {
   "cell_type": "markdown",
   "id": "51febaa4",
   "metadata": {},
   "source": [
    "| 符号| 描述 |\n",
    "| ------ | ------ | \n",
    "| `%c` | 格式化字符及其ASCII码 | \n",
    "| `%s` | 格式化字符串 |\n",
    "| `%d'` | 格式化整数 |\n",
    "| `%u\"` | 格式化无符号整型 | \n",
    "| `%f` | 格式化浮点数字，可指定小数点后的精度 | \n",
    "| `%e` | 用科学计数法格式化浮点数 | \n"
   ]
  },
  {
   "cell_type": "code",
   "execution_count": 33,
   "id": "138826a2",
   "metadata": {},
   "outputs": [
    {
     "name": "stdout",
     "output_type": "stream",
     "text": [
      "这是量子物理python课程的第1节课\n"
     ]
    }
   ],
   "source": [
    "print(\"这是%s课程的第%d节课\" %('量子物理python',1))"
   ]
  },
  {
   "cell_type": "markdown",
   "id": "4111fd3a",
   "metadata": {},
   "source": [
    "更为便捷的方式是采用f-string"
   ]
  },
  {
   "cell_type": "code",
   "execution_count": 34,
   "id": "de9a88ec",
   "metadata": {},
   "outputs": [
    {
     "name": "stdout",
     "output_type": "stream",
     "text": [
      "这是量子物理python课程的第1节课\n"
     ]
    }
   ],
   "source": [
    "lesson_name = '量子物理python'\n",
    "lesson_number = 1\n",
    "print(f'这是{lesson_name}课程的第{lesson_number}节课')"
   ]
  },
  {
   "cell_type": "markdown",
   "id": "14fd0db7",
   "metadata": {
    "tags": []
   },
   "source": [
    "### List"
   ]
  },
  {
   "cell_type": "markdown",
   "id": "13b30d8f",
   "metadata": {},
   "source": [
    "列表是用`[]`括起来的，列表中的元素用`,` 进行索引和切片方式和String相同"
   ]
  },
  {
   "cell_type": "code",
   "execution_count": 28,
   "id": "7309d95f",
   "metadata": {},
   "outputs": [],
   "source": [
    "list1 = ['quantum',1.0,'python',-1.j,True]"
   ]
  },
  {
   "cell_type": "code",
   "execution_count": 27,
   "id": "cc60e419",
   "metadata": {},
   "outputs": [
    {
     "name": "stdout",
     "output_type": "stream",
     "text": [
      "['python', (-0-1j)]\n"
     ]
    }
   ],
   "source": [
    "print(list1[2:-1])"
   ]
  },
  {
   "cell_type": "code",
   "execution_count": 16,
   "id": "61077fb7-feb1-44f9-8541-a48142ea2aaa",
   "metadata": {},
   "outputs": [
    {
     "data": {
      "text/plain": [
       "list"
      ]
     },
     "execution_count": 16,
     "metadata": {},
     "output_type": "execute_result"
    }
   ],
   "source": [
    "type(list1)"
   ]
  },
  {
   "cell_type": "code",
   "execution_count": 17,
   "id": "1ab3d052-8fc4-423e-8dd6-7552520cc553",
   "metadata": {},
   "outputs": [
    {
     "name": "stdout",
     "output_type": "stream",
     "text": [
      "True\n"
     ]
    }
   ],
   "source": [
    "print(isinstance(list1,list))"
   ]
  },
  {
   "cell_type": "code",
   "execution_count": 18,
   "id": "811f6d30-5868-42ef-bb70-0c28bd166dad",
   "metadata": {},
   "outputs": [
    {
     "name": "stdout",
     "output_type": "stream",
     "text": [
      "False\n"
     ]
    }
   ],
   "source": [
    "print(isinstance(list1,tuple))"
   ]
  },
  {
   "cell_type": "code",
   "execution_count": 29,
   "id": "52cf0421-ee08-4bf6-bbd4-436ed2c62628",
   "metadata": {},
   "outputs": [],
   "source": [
    "list1.append('aaa')"
   ]
  },
  {
   "cell_type": "code",
   "execution_count": 30,
   "id": "8b93893d-4d2d-4701-8563-5141388c1138",
   "metadata": {},
   "outputs": [
    {
     "data": {
      "text/plain": [
       "['quantum', 1.0, 'python', (-0-1j), True, 'aaa']"
      ]
     },
     "execution_count": 30,
     "metadata": {},
     "output_type": "execute_result"
    }
   ],
   "source": [
    "list1"
   ]
  },
  {
   "cell_type": "markdown",
   "id": "11481b0c",
   "metadata": {},
   "source": [
    "----"
   ]
  },
  {
   "cell_type": "markdown",
   "id": "bbebaa17",
   "metadata": {},
   "source": [
    "面向list的方法\n",
    "\n",
    "| 表达式| 描述 |\n",
    "| ------ | ------ | \n",
    "| `list.append(obj)` | 在列表末尾添加新的对象 | \n",
    "| `list.count(obj)` | 统计某个元素在列表中出现的次数 |\n",
    "| `list.extend(seq)` | 在列表末尾一次性追加另一个序列中的多个值（用新列表扩展原来的列表） |\n",
    "| `list.index(obj)` | 从列表中找出某个值第一个匹配项的索引位置 | \n",
    "| `list.insert(index, obj)` | 将对象插入列表 | \n",
    "| `list.pop([index=-1])` | 移除列表中的一个元素（默认最后一个元素），并且返回该元素的值 | \n",
    "| `list.remove(obj)` | 移除列表中某个值的第一个匹配项 | \n",
    "| `list.reverse()` | 反向列表中元素 | \n",
    "| `list.sort( key=None, reverse=False)` | 对原列表进行排序 | \n",
    "| `list.clear()` | 清空列表 | \n",
    "| `list.copy()` | 复制列表 | \n"
   ]
  },
  {
   "cell_type": "code",
   "execution_count": 36,
   "id": "08c48f79",
   "metadata": {},
   "outputs": [
    {
     "data": {
      "text/plain": [
       "2"
      ]
     },
     "execution_count": 36,
     "metadata": {},
     "output_type": "execute_result"
    }
   ],
   "source": [
    "list1.index('python')"
   ]
  },
  {
   "cell_type": "code",
   "execution_count": 39,
   "id": "0cf909b4",
   "metadata": {},
   "outputs": [
    {
     "data": {
      "text/plain": [
       "['quantum', 'physics', 1.0, 'python', (-0-1j), True]"
      ]
     },
     "execution_count": 39,
     "metadata": {},
     "output_type": "execute_result"
    }
   ],
   "source": [
    "list1.insert(1,'physics')\n",
    "list1"
   ]
  },
  {
   "cell_type": "code",
   "execution_count": 41,
   "id": "fee9ea65",
   "metadata": {},
   "outputs": [
    {
     "data": {
      "text/plain": [
       "['quantum', 'physics', 'python', (-0-1j), True]"
      ]
     },
     "execution_count": 41,
     "metadata": {},
     "output_type": "execute_result"
    }
   ],
   "source": [
    "del list1[2]\n",
    "list1"
   ]
  },
  {
   "cell_type": "code",
   "execution_count": 42,
   "id": "b1bb4a3c",
   "metadata": {},
   "outputs": [
    {
     "data": {
      "text/plain": [
       "5"
      ]
     },
     "execution_count": 42,
     "metadata": {},
     "output_type": "execute_result"
    }
   ],
   "source": [
    "len(list1)"
   ]
  },
  {
   "cell_type": "code",
   "execution_count": 43,
   "id": "51eef6db",
   "metadata": {},
   "outputs": [
    {
     "data": {
      "text/plain": [
       "True"
      ]
     },
     "execution_count": 43,
     "metadata": {},
     "output_type": "execute_result"
    }
   ],
   "source": [
    "'python' in list1"
   ]
  },
  {
   "cell_type": "markdown",
   "id": "8d36383b",
   "metadata": {
    "tags": []
   },
   "source": [
    "### Tuple"
   ]
  },
  {
   "cell_type": "markdown",
   "id": "00bcc218",
   "metadata": {},
   "source": [
    "元组和列表类似，元组使用`()`括起来，而且元组中的元素不能修改，对元组元素的索引和对元组的切片，与list和string的方式相同"
   ]
  },
  {
   "cell_type": "code",
   "execution_count": 31,
   "id": "8a43f182",
   "metadata": {},
   "outputs": [],
   "source": [
    "tuple1 = ('quantum',1.0,'python',-1.j,True)"
   ]
  },
  {
   "cell_type": "code",
   "execution_count": 32,
   "id": "5ca11bb6",
   "metadata": {},
   "outputs": [
    {
     "data": {
      "text/plain": [
       "1.0"
      ]
     },
     "execution_count": 32,
     "metadata": {},
     "output_type": "execute_result"
    }
   ],
   "source": [
    "tuple1[1]"
   ]
  },
  {
   "cell_type": "code",
   "execution_count": 33,
   "id": "696c1f89",
   "metadata": {},
   "outputs": [
    {
     "ename": "TypeError",
     "evalue": "'tuple' object does not support item assignment",
     "output_type": "error",
     "traceback": [
      "\u001b[0;31m---------------------------------------------------------------------------\u001b[0m",
      "\u001b[0;31mTypeError\u001b[0m                                 Traceback (most recent call last)",
      "Input \u001b[0;32mIn [33]\u001b[0m, in \u001b[0;36m<cell line: 1>\u001b[0;34m()\u001b[0m\n\u001b[0;32m----> 1\u001b[0m tuple1[\u001b[38;5;241m1\u001b[39m] \u001b[38;5;241m=\u001b[39m \u001b[38;5;124m'\u001b[39m\u001b[38;5;124mphysics\u001b[39m\u001b[38;5;124m'\u001b[39m\n",
      "\u001b[0;31mTypeError\u001b[0m: 'tuple' object does not support item assignment"
     ]
    }
   ],
   "source": [
    "tuple1[1] = 'physics'"
   ]
  },
  {
   "cell_type": "code",
   "execution_count": 34,
   "id": "6955d60f",
   "metadata": {},
   "outputs": [
    {
     "data": {
      "text/plain": [
       "5"
      ]
     },
     "execution_count": 34,
     "metadata": {},
     "output_type": "execute_result"
    }
   ],
   "source": [
    "len(tuple1)"
   ]
  },
  {
   "cell_type": "markdown",
   "id": "9007cbe7",
   "metadata": {
    "tags": []
   },
   "source": [
    "### Dictionary"
   ]
  },
  {
   "cell_type": "markdown",
   "id": "99a4bbac",
   "metadata": {},
   "source": [
    "字典是用`{}`括起来的，可以存储任意类型对象，其形式为`{key1:vaule1,key2:value2}`,其值通过key(键)来访问"
   ]
  },
  {
   "cell_type": "code",
   "execution_count": 41,
   "id": "366cc2bb",
   "metadata": {},
   "outputs": [],
   "source": [
    "Dict1 = {1:3.14, 'name':'lilbear', 'age':20}"
   ]
  },
  {
   "cell_type": "code",
   "execution_count": 39,
   "id": "930f9465",
   "metadata": {},
   "outputs": [
    {
     "data": {
      "text/plain": [
       "'lilbear'"
      ]
     },
     "execution_count": 39,
     "metadata": {},
     "output_type": "execute_result"
    }
   ],
   "source": [
    "Dict1['name']"
   ]
  },
  {
   "cell_type": "markdown",
   "id": "ade1b950",
   "metadata": {},
   "source": [
    "面向Dictionary的函数和方法\n",
    "\n",
    "| 表达式| 描述 |\n",
    "| ------ | ------ | \n",
    "| `len(dict)` | 计算字典元素个数，即键的总数。 | \n",
    "| `dict.clear()` | 删除字典内所有元素 |\n",
    "| `dict.copy()` | 返回一个字典的浅复制 |\n",
    "| `dict.fromkeys(list(tuple,str))` | 创建一个新字典，以序列中元素做字典的键，字典所有键对应的初始值默认为`None` | \n",
    "| `dict.get(key, default=None)` | 返回指定键的值，如果键不在字典中返回 default 设置的默认值 | \n",
    "| `key in dict` | 如果键在字典dict里返回true，否则返回false | \n",
    "| `dict.items()` |返回字典key和对应value的组合 | \n",
    "| `dict.setdefault(key, default=None)` | 和get()类似, 但如果键不存在于字典中，将会添加键并将值设为default | \n",
    "| `dict.keys()` | 返回字典中所有的key | \n",
    "| `dict.update(dict2)` | 把字典dict2的键/值对更新到dict里 | \n",
    "| `dict.values()` | 返回字典中所有的value  | \n",
    "| `dict.pop(key[,default])` | 删除字典 key（键）所对应的值，返回被删除的值 | \n",
    "| `dict.popitem()` |返回并删除字典中的最后一对键和值 | "
   ]
  },
  {
   "cell_type": "code",
   "execution_count": 66,
   "id": "6185cb37",
   "metadata": {},
   "outputs": [
    {
     "data": {
      "text/plain": [
       "dict_items([(1, 3.14), ('name', 'lilbear'), ('age', 20)])"
      ]
     },
     "execution_count": 66,
     "metadata": {},
     "output_type": "execute_result"
    }
   ],
   "source": [
    "Dict1.items()"
   ]
  },
  {
   "cell_type": "code",
   "execution_count": 69,
   "id": "a6d4082b",
   "metadata": {},
   "outputs": [
    {
     "data": {
      "text/plain": [
       "{1: 3.14}"
      ]
     },
     "execution_count": 69,
     "metadata": {},
     "output_type": "execute_result"
    }
   ],
   "source": [
    "Dict1.popitem()\n",
    "Dict1"
   ]
  },
  {
   "cell_type": "code",
   "execution_count": 40,
   "id": "edb80e42",
   "metadata": {},
   "outputs": [],
   "source": [
    "Dict2 = {'class':'python'} "
   ]
  },
  {
   "cell_type": "code",
   "execution_count": 42,
   "id": "a5e38150",
   "metadata": {},
   "outputs": [
    {
     "data": {
      "text/plain": [
       "{1: 3.14, 'name': 'lilbear', 'age': 20, 'class': 'python'}"
      ]
     },
     "execution_count": 42,
     "metadata": {},
     "output_type": "execute_result"
    }
   ],
   "source": [
    "Dict1.update(Dict2)\n",
    "Dict1"
   ]
  },
  {
   "cell_type": "code",
   "execution_count": 72,
   "id": "0bc7e529",
   "metadata": {},
   "outputs": [
    {
     "data": {
      "text/plain": [
       "{'1': None, '2': None, '3': None}"
      ]
     },
     "execution_count": 72,
     "metadata": {},
     "output_type": "execute_result"
    }
   ],
   "source": [
    "dict.fromkeys('123')"
   ]
  },
  {
   "cell_type": "code",
   "execution_count": 46,
   "id": "e7fcb341",
   "metadata": {},
   "outputs": [
    {
     "data": {
      "text/plain": [
       "True"
      ]
     },
     "execution_count": 46,
     "metadata": {},
     "output_type": "execute_result"
    }
   ],
   "source": [
    "Dict1.get('nameddd')==None"
   ]
  },
  {
   "cell_type": "markdown",
   "id": "2f39dbfc",
   "metadata": {},
   "source": [
    "字典的特性\n",
    "1. 同一个key(键)不允许出现两次 ，如果赋值两次，只有后一个值会被记住用数字，字符串或元组充当，而用列表就不行\n",
    "\n",
    "2. key必须不可变，用数字，字符串或元组充当，而用列表就不行"
   ]
  },
  {
   "cell_type": "markdown",
   "id": "a13c9732-cb81-4e13-882b-ddc38398b56d",
   "metadata": {},
   "source": [
    "#### Examples"
   ]
  },
  {
   "cell_type": "code",
   "execution_count": 47,
   "id": "4dab84a2-0180-4aa0-85f9-761e87a0eb46",
   "metadata": {},
   "outputs": [],
   "source": [
    "a = [1, 2, 3]\n",
    "b = ['a', 'b', 'c']"
   ]
  },
  {
   "cell_type": "code",
   "execution_count": 22,
   "id": "a6022388-0a48-4a24-b5e9-edc8d241e919",
   "metadata": {},
   "outputs": [
    {
     "name": "stdout",
     "output_type": "stream",
     "text": [
      "<zip object at 0x109316240>\n"
     ]
    }
   ],
   "source": [
    "print(zip(a,b))"
   ]
  },
  {
   "cell_type": "code",
   "execution_count": 48,
   "id": "07e3eb6b-376f-423a-94b6-561a3fbefbce",
   "metadata": {},
   "outputs": [
    {
     "name": "stdout",
     "output_type": "stream",
     "text": [
      "a 1\n",
      "b 2\n",
      "c 3\n",
      "{'a': 1, 'b': 2, 'c': 3}\n"
     ]
    }
   ],
   "source": [
    "dct = {} # 创建空字典\n",
    "for v,k in zip(a,b): # 将a,b两个列表打包\n",
    "    print(k,v)\n",
    "    dct.update({k:v}) # 向dct这个字典里更新新的键值对\n",
    "    \n",
    "print(dct)"
   ]
  },
  {
   "cell_type": "markdown",
   "id": "932fb6a7",
   "metadata": {
    "tags": []
   },
   "source": [
    "### Set"
   ]
  },
  {
   "cell_type": "markdown",
   "id": "f037d181",
   "metadata": {},
   "source": [
    "集合是一个无序不重复的元素序列，可以使用大括号`{}`或者`set()`函数创建集合。注意：创建一个空集合必须用`set()`，而不能用`{}`"
   ]
  },
  {
   "cell_type": "code",
   "execution_count": 83,
   "id": "0847e4a7",
   "metadata": {},
   "outputs": [
    {
     "name": "stdout",
     "output_type": "stream",
     "text": [
      "{'snake', 'cherry', 'sakura', 'photon'} \n",
      " {'h', 'o', 't', 'n', 'p'}\n"
     ]
    }
   ],
   "source": [
    "set1 = {'photon','cherry','sakura','photon','snake'}\n",
    "set2 = set('photon')\n",
    "print(set1,'\\n',set2)"
   ]
  },
  {
   "cell_type": "markdown",
   "id": "ab5e4b42",
   "metadata": {},
   "source": [
    "面向集合的函数和方法\n",
    "\n",
    "| 表达式| 描述 |\n",
    "| ------ | ------ | \n",
    "| `len(set)`  |  计算集合中的元素  |\n",
    "| `set.add()` | 为集合添加元素 | \n",
    "| `set.clear()` | 删除集合内所有元素 |\n",
    "| `set.copy()` | 拷贝一个集合 |\n",
    "| `set.update()` `set.add()` | 给集合添加元素 | \n",
    "| `set.difference()` | 返回集合的差集 | \n",
    "| `set.union()` | 返回集合的并集 | \n",
    "| `set.remove()` |移除指定元素 | \n",
    "| `set.pop()` | 随机移除元素 | \n"
   ]
  },
  {
   "cell_type": "code",
   "execution_count": 86,
   "id": "5b63653c",
   "metadata": {},
   "outputs": [
    {
     "data": {
      "text/plain": [
       "{'cherry', 'photon', 'sakura', 'snake'}"
      ]
     },
     "execution_count": 86,
     "metadata": {},
     "output_type": "execute_result"
    }
   ],
   "source": [
    "set1.difference(set2)"
   ]
  },
  {
   "cell_type": "markdown",
   "id": "c1b8bd0a-d5e4-4f40-9e22-aae42d4b57c2",
   "metadata": {},
   "source": [
    "### 布尔型（Boolean object）"
   ]
  },
  {
   "cell_type": "markdown",
   "id": "a7f9a485-e995-4256-a992-637171c2cb15",
   "metadata": {},
   "source": [
    "### `None` "
   ]
  },
  {
   "cell_type": "code",
   "execution_count": null,
   "id": "62518f34-714a-45db-a594-a79d4aec0e52",
   "metadata": {},
   "outputs": [],
   "source": []
  },
  {
   "cell_type": "markdown",
   "id": "a3059b53-18e2-43a0-b7ea-dc275163eb89",
   "metadata": {
    "tags": []
   },
   "source": [
    "### 在Python里，一切都是`对象`(`object`)    \n",
    "\n",
    "Python语言的一个重要特性就是它的对象模型的一致性。每个数字、字符串、数据结构、函数、类、模块等等，都是在Python解释器的自有“盒子”内，它被认为是Python对象。每个对象都有类型（例如，字符串或函数）和内部数据。在实际中，这可以让语言非常灵活，因为函数也可以被当做对象使用。\n",
    "\n",
    "\n",
    "Python中的大多数对象，比如列表、字典、NumPy数组，和用户定义的类型（类），都是可变的。意味着这些对象或包含的值可以被修改："
   ]
  },
  {
   "cell_type": "code",
   "execution_count": 5,
   "id": "339fe958-f9c6-4b78-adfe-a0683f4f5edb",
   "metadata": {},
   "outputs": [],
   "source": [
    "a_list = ['foo', 2, [4,5]]"
   ]
  },
  {
   "cell_type": "code",
   "execution_count": 7,
   "id": "b590b835-37c1-4322-96bd-47262f574753",
   "metadata": {},
   "outputs": [
    {
     "name": "stdout",
     "output_type": "stream",
     "text": [
      "['foo', 2, (3, 4)]\n"
     ]
    }
   ],
   "source": [
    "a_list[2]=(3,4)\n",
    "print(a_list)"
   ]
  },
  {
   "cell_type": "code",
   "execution_count": null,
   "id": "092f7205-a1f8-42c5-9dba-ce99a954326e",
   "metadata": {},
   "outputs": [],
   "source": [
    "其它的，例如字符串和元组，是不可变的."
   ]
  },
  {
   "cell_type": "markdown",
   "id": "72b07ccb-6169-4992-ab0b-6d6d581df592",
   "metadata": {
    "tags": []
   },
   "source": [
    "#### 对象的`属性`    \n",
    "Python的对象通常都有属性（其它存储在对象内部的Python对象）和方法（对象的附属函数可以访问对象的内部数据）。\n",
    "\n",
    "\n",
    "#### 对象的`方法`   \n",
    "\n",
    "很多对象有迭代的方法，比如`list`，`tuple`，`string`。"
   ]
  },
  {
   "cell_type": "code",
   "execution_count": 1,
   "id": "c9ea8bc7",
   "metadata": {},
   "outputs": [],
   "source": [
    "a=[1,2]"
   ]
  },
  {
   "cell_type": "code",
   "execution_count": 4,
   "id": "893de38d-a6d5-42b3-8db9-65ded3c5737d",
   "metadata": {},
   "outputs": [
    {
     "ename": "AttributeError",
     "evalue": "'list' object has no attribute '+'",
     "output_type": "error",
     "traceback": [
      "\u001b[0;31m---------------------------------------------------------------------------\u001b[0m",
      "\u001b[0;31mAttributeError\u001b[0m                            Traceback (most recent call last)",
      "Input \u001b[0;32mIn [4]\u001b[0m, in \u001b[0;36m<cell line: 1>\u001b[0;34m()\u001b[0m\n\u001b[0;32m----> 1\u001b[0m \u001b[38;5;28;43mgetattr\u001b[39;49m\u001b[43m(\u001b[49m\u001b[43ma\u001b[49m\u001b[43m,\u001b[49m\u001b[38;5;124;43m'\u001b[39;49m\u001b[38;5;124;43m+\u001b[39;49m\u001b[38;5;124;43m'\u001b[39;49m\u001b[43m)\u001b[49m\n",
      "\u001b[0;31mAttributeError\u001b[0m: 'list' object has no attribute '+'"
     ]
    }
   ],
   "source": [
    "getattr(a,'+')"
   ]
  },
  {
   "cell_type": "markdown",
   "id": "cc0d7088",
   "metadata": {
    "tags": []
   },
   "source": [
    "## 判断"
   ]
  },
  {
   "cell_type": "markdown",
   "id": "1e966190",
   "metadata": {},
   "source": [
    "条件语句\n",
    "```python\n",
    "if\n",
    "\n",
    "if  \n",
    "else\n",
    "\n",
    "if\n",
    "elif\n",
    "else\n",
    "```"
   ]
  },
  {
   "cell_type": "code",
   "execution_count": 90,
   "id": "5ed2bf49",
   "metadata": {},
   "outputs": [
    {
     "name": "stdout",
     "output_type": "stream",
     "text": [
      "小明在上课名单中。\n"
     ]
    }
   ],
   "source": [
    "list_of_class = ['小红','小明','小李','小张']\n",
    "student1name = '小明'\n",
    "\n",
    "if student1name in list_of_class:\n",
    "    print(f'{student1name}在上课名单中。')"
   ]
  },
  {
   "cell_type": "code",
   "execution_count": 93,
   "id": "afdfeaf8",
   "metadata": {},
   "outputs": [
    {
     "name": "stdout",
     "output_type": "stream",
     "text": [
      "小莫不在上课名单中。\n"
     ]
    }
   ],
   "source": [
    "student2name = '小莫'\n",
    "\n",
    "if student2name in list_of_class:\n",
    "    print(f'{student2name}在上课名单中。')\n",
    "else :\n",
    "    print(f'{student2name}不在上课名单中。')"
   ]
  },
  {
   "cell_type": "code",
   "execution_count": 94,
   "id": "46b7aeea",
   "metadata": {},
   "outputs": [
    {
     "name": "stdout",
     "output_type": "stream",
     "text": [
      "20是正数。\n"
     ]
    }
   ],
   "source": [
    "number = 20\n",
    "\n",
    "if number > 0:\n",
    "    print(f'{number}是正数。')\n",
    "elif number < 0:\n",
    "    print(f'{number}是负数。')\n",
    "else:\n",
    "    print(f'{number}为0.')\n",
    "    "
   ]
  },
  {
   "cell_type": "markdown",
   "id": "00ffceb2",
   "metadata": {},
   "source": [
    "比较运算符 \n",
    "\n",
    "| 运算符 | 描述 | 例子 |\n",
    "| ------ | ------ | ------ |\n",
    "| `==` | 比较对象是否相等 | `1 == 2 ` 返回 `False  ` |\n",
    "| `!=` | 比较对象是否相等 | `1 != 2 ` 返回 `True  ` |\n",
    "| `>` | 是否大于 | `1 > 2 ` 返回 `False  ` |\n",
    "| `<` | 是否小于 | `1 < 2 ` 返回 `True  ` |\n",
    "| `>=` | 是否大于等于 | `1 >= 2 ` 返回 `False  ` |\n",
    "| `<=` | 是否小于等于 | `1 <= 2 ` 返回 `True  ` |\n",
    "\n"
   ]
  },
  {
   "cell_type": "markdown",
   "id": "6909d4db",
   "metadata": {},
   "source": [
    "---"
   ]
  },
  {
   "cell_type": "markdown",
   "id": "ec9e57c7",
   "metadata": {
    "tags": []
   },
   "source": [
    "## 循环"
   ]
  },
  {
   "cell_type": "markdown",
   "id": "2b231289",
   "metadata": {
    "tags": []
   },
   "source": [
    "### `for` 循环"
   ]
  },
  {
   "cell_type": "markdown",
   "id": "9f445fa1",
   "metadata": {},
   "source": [
    "`for`循环可以遍历任何可迭代对象，如一个列表或者一个字符串。<br>\n",
    "```python\n",
    "for <variable> in <sequence>:\n",
    "    <statements>\n",
    "else:\n",
    "    <statements>\n",
    " ```"
   ]
  },
  {
   "cell_type": "code",
   "execution_count": 98,
   "id": "1b55d30b",
   "metadata": {},
   "outputs": [
    {
     "name": "stdout",
     "output_type": "stream",
     "text": [
      "0\n",
      "2\n",
      "4\n",
      "6\n",
      "8\n",
      "10\n",
      "12\n",
      "14\n",
      "16\n",
      "18\n"
     ]
    }
   ],
   "source": [
    "for i in range(0,20,2): #左闭右开\n",
    "    print(i)"
   ]
  },
  {
   "cell_type": "code",
   "execution_count": 101,
   "id": "b5949c07",
   "metadata": {},
   "outputs": [
    {
     "name": "stdout",
     "output_type": "stream",
     "text": [
      "Q\n",
      "u\n",
      "a\n",
      "n\n",
      "t\n",
      "u\n",
      "m\n"
     ]
    }
   ],
   "source": [
    "for x in firstname:\n",
    "    print(x)"
   ]
  },
  {
   "cell_type": "markdown",
   "id": "6156d343",
   "metadata": {
    "tags": []
   },
   "source": [
    "### `while` 循环"
   ]
  },
  {
   "cell_type": "markdown",
   "id": "fbd04d0c",
   "metadata": {},
   "source": [
    "```python\n",
    "while <condition>:\n",
    "    <statements>\n",
    "else:\n",
    "```"
   ]
  },
  {
   "cell_type": "code",
   "execution_count": 106,
   "id": "d65df235",
   "metadata": {},
   "outputs": [
    {
     "name": "stdout",
     "output_type": "stream",
     "text": [
      "你已打卡1天，加油！\n",
      "你已打卡2天，加油！\n",
      "你已打卡3天，加油！\n",
      "你已打卡4天，加油！\n",
      "你已打卡5天，加油！\n",
      "你已打卡6天，加油！\n",
      "你已打卡7天，加油！\n",
      "你已打卡8天，加油！\n",
      "你已打卡9天，加油！\n",
      "恭喜你，打卡10天，打卡任务完成！\n"
     ]
    }
   ],
   "source": [
    "count = 1 \n",
    "while count < 10:\n",
    "    \n",
    "    print(f'你已打卡{count}天，加油！')\n",
    "    count += 1\n",
    "else:\n",
    "    print(f'恭喜你，打卡{count}天，打卡任务完成！')"
   ]
  },
  {
   "cell_type": "markdown",
   "id": "bec18ba9",
   "metadata": {
    "tags": []
   },
   "source": [
    "### `continue` 和 `break`"
   ]
  },
  {
   "cell_type": "markdown",
   "id": "7ea21f10",
   "metadata": {},
   "source": [
    "* `continue`语句被用来告诉Python跳过当前循环块重点剩余语句，然后继续进行下一轮循环 \n",
    "* `break`语句可以跳出`for`和`while`的循环体(若你从`for`或`while`的循环体跳出，与之对应的循环`else`将不执行)"
   ]
  },
  {
   "cell_type": "code",
   "execution_count": 109,
   "id": "71ffce6d",
   "metadata": {},
   "outputs": [
    {
     "name": "stdout",
     "output_type": "stream",
     "text": [
      "今天上math。\n",
      "今天上physics。\n",
      "今天上english。\n",
      "今天体育老师有事,上数学课。\n",
      "今天上history。\n",
      "今天上chemistry。\n"
     ]
    }
   ],
   "source": [
    "lessons=['math','physics','english','P.E.','history','chemistry']\n",
    "\n",
    "for x in lessons:\n",
    "    if x == 'P.E.':\n",
    "        print('今天体育老师有事,上数学课。')\n",
    "        continue\n",
    "    print(f'今天上{x}。')\n"
   ]
  },
  {
   "cell_type": "code",
   "execution_count": 111,
   "id": "398457a9",
   "metadata": {},
   "outputs": [
    {
     "name": "stdout",
     "output_type": "stream",
     "text": [
      "你已打卡1天，加油！\n",
      "你已打卡2天，加油！\n",
      "你已打卡3天，加油！\n",
      "你已打卡4天，加油！\n",
      "打卡任务已经停止。\n"
     ]
    }
   ],
   "source": [
    "count = 1 \n",
    "while count < 10:\n",
    "    \n",
    "    if count == 5:\n",
    "        print('打卡任务已经停止。')\n",
    "        break\n",
    "    print(f'你已打卡{count}天，加油！')\n",
    "    count += 1\n",
    "else:\n",
    "    print(f'恭喜你，打卡{count}天，打卡任务完成！')"
   ]
  },
  {
   "cell_type": "markdown",
   "id": "c8e094c5",
   "metadata": {
    "tags": []
   },
   "source": [
    "## 函数\n"
   ]
  },
  {
   "cell_type": "markdown",
   "id": "94e0e14e",
   "metadata": {},
   "source": [
    "函数是组织好的，可重复使用的，用来实现单一，或相关联功能的代码段。"
   ]
  },
  {
   "cell_type": "markdown",
   "id": "862f3663",
   "metadata": {},
   "source": [
    "``` python\n",
    "def function_name(param1,param2): \n",
    "    <statements>\n",
    "    return output\n",
    "```"
   ]
  },
  {
   "cell_type": "code",
   "execution_count": 51,
   "id": "bf46a79d-95a8-45d3-b620-0d8e67c9a3ac",
   "metadata": {},
   "outputs": [],
   "source": [
    "def fun_sum(a,b):\n",
    "    a = 0\n",
    "    for i in range(0,n+1):\n",
    "        a +=i\n",
    "    return a"
   ]
  },
  {
   "cell_type": "code",
   "execution_count": 53,
   "id": "6d1f115a-d1eb-4e8b-bf92-fc7223f8fbd3",
   "metadata": {},
   "outputs": [
    {
     "data": {
      "text/plain": [
       "55"
      ]
     },
     "execution_count": 53,
     "metadata": {},
     "output_type": "execute_result"
    }
   ],
   "source": [
    "fun_sum(10)"
   ]
  },
  {
   "cell_type": "code",
   "execution_count": 54,
   "id": "0939aa35",
   "metadata": {},
   "outputs": [
    {
     "name": "stdout",
     "output_type": "stream",
     "text": [
      "hello\n"
     ]
    }
   ],
   "source": [
    "def hello():\n",
    "    print('hello')\n",
    "    return \n",
    "hello()"
   ]
  },
  {
   "cell_type": "markdown",
   "id": "91f5542e",
   "metadata": {},
   "source": [
    "关键字参数和函数调用关系紧密，函数调用使用关键字参数来确定传入的参数值。使用关键字参数允许函数调用时参数的顺序与声时不一致。"
   ]
  },
  {
   "cell_type": "code",
   "execution_count": 124,
   "id": "74cd02f3",
   "metadata": {},
   "outputs": [
    {
     "name": "stdout",
     "output_type": "stream",
     "text": [
      "Name:Alice\n",
      "Age:21\n"
     ]
    }
   ],
   "source": [
    "def personal_info(name = 'Alice',age='21'):\n",
    "    print(f'Name:{name}\\nAge:{age}')\n",
    "personal_info()"
   ]
  },
  {
   "cell_type": "code",
   "execution_count": 126,
   "id": "e8cd644b",
   "metadata": {},
   "outputs": [
    {
     "name": "stdout",
     "output_type": "stream",
     "text": [
      "Name:Bob\n",
      "Age:20\n"
     ]
    }
   ],
   "source": [
    "personal_info('Bob','20')"
   ]
  },
  {
   "cell_type": "code",
   "execution_count": 128,
   "id": "844b4792",
   "metadata": {},
   "outputs": [
    {
     "name": "stdout",
     "output_type": "stream",
     "text": [
      "Name:Charlie\n",
      "Age:22\n"
     ]
    }
   ],
   "source": [
    "personal_info(age='22',name = 'Charlie')"
   ]
  },
  {
   "cell_type": "markdown",
   "id": "18141e85",
   "metadata": {},
   "source": [
    "当需要函数处理不确定数量的参数时,我们可以采用加上`*`或`**`的方式参数来传入函数。"
   ]
  },
  {
   "cell_type": "markdown",
   "id": "fc81d5e0",
   "metadata": {},
   "source": [
    "加了`*`号的参数会以元组(tuple)的形式(非键值对)传入，存放所有未命名的变量参数。"
   ]
  },
  {
   "cell_type": "code",
   "execution_count": 138,
   "id": "e012baac",
   "metadata": {},
   "outputs": [],
   "source": [
    "def printinfo(name, *args):\n",
    "    print(type(args))\n",
    "    print(name)\n",
    "    print(args)\n",
    "    "
   ]
  },
  {
   "cell_type": "code",
   "execution_count": 139,
   "id": "47c2adf2",
   "metadata": {},
   "outputs": [
    {
     "name": "stdout",
     "output_type": "stream",
     "text": [
      "<class 'tuple'>\n",
      "Alice\n",
      "('21', 'junior')\n"
     ]
    }
   ],
   "source": [
    "printinfo('Alice','21','junior')"
   ]
  },
  {
   "cell_type": "markdown",
   "id": "eb785745",
   "metadata": {},
   "source": [
    "加了`**`号的参数会以字典(dictionary)的形式(键值对)传入，存放所有未命名的变量参数。"
   ]
  },
  {
   "cell_type": "code",
   "execution_count": 140,
   "id": "a1318b91",
   "metadata": {},
   "outputs": [],
   "source": [
    "def print_full_info(name, **kwargs):\n",
    "    print(type(kwargs))\n",
    "    print(name)\n",
    "    print(kwargs)    "
   ]
  },
  {
   "cell_type": "code",
   "execution_count": 142,
   "id": "87e94ba8",
   "metadata": {},
   "outputs": [
    {
     "name": "stdout",
     "output_type": "stream",
     "text": [
      "<class 'dict'>\n",
      "Alice\n",
      "{'age': '21', 'grade': 'junior'}\n"
     ]
    }
   ],
   "source": [
    "print_full_info('Alice',age ='21',grade = 'junior')"
   ]
  },
  {
   "cell_type": "markdown",
   "id": "46669c7d",
   "metadata": {},
   "source": [
    "在声明函数时，参数中的`*`可单独出现，如果单独出现`*`,其后的参数必须用关键字传入"
   ]
  },
  {
   "cell_type": "code",
   "execution_count": 143,
   "id": "ee6647f3",
   "metadata": {},
   "outputs": [],
   "source": [
    "def fun_sum2(a,b,*,c):\n",
    "    return a+b+c\n"
   ]
  },
  {
   "cell_type": "code",
   "execution_count": 144,
   "id": "b149493a",
   "metadata": {},
   "outputs": [
    {
     "ename": "TypeError",
     "evalue": "fun_sum2() takes 2 positional arguments but 3 were given",
     "output_type": "error",
     "traceback": [
      "\u001b[0;31m---------------------------------------------------------------------------\u001b[0m",
      "\u001b[0;31mTypeError\u001b[0m                                 Traceback (most recent call last)",
      "Input \u001b[0;32mIn [144]\u001b[0m, in \u001b[0;36m<cell line: 1>\u001b[0;34m()\u001b[0m\n\u001b[0;32m----> 1\u001b[0m \u001b[43mfun_sum2\u001b[49m\u001b[43m(\u001b[49m\u001b[38;5;241;43m1\u001b[39;49m\u001b[43m,\u001b[49m\u001b[38;5;241;43m2\u001b[39;49m\u001b[43m,\u001b[49m\u001b[38;5;241;43m3\u001b[39;49m\u001b[43m)\u001b[49m\n",
      "\u001b[0;31mTypeError\u001b[0m: fun_sum2() takes 2 positional arguments but 3 were given"
     ]
    }
   ],
   "source": [
    "fun_sum2(1,2,3)"
   ]
  },
  {
   "cell_type": "code",
   "execution_count": 146,
   "id": "9051f701",
   "metadata": {},
   "outputs": [
    {
     "data": {
      "text/plain": [
       "6"
      ]
     },
     "execution_count": 146,
     "metadata": {},
     "output_type": "execute_result"
    }
   ],
   "source": [
    "fun_sum2(1,2,c=3)"
   ]
  },
  {
   "cell_type": "markdown",
   "id": "fe442f2d",
   "metadata": {
    "tags": []
   },
   "source": [
    "###  `lambda`表达式 和 `map`，`reduce`"
   ]
  },
  {
   "cell_type": "markdown",
   "id": "c3a65292",
   "metadata": {},
   "source": [
    "Python可以使用`lambda`来创建匿名函数，即不使用`def`语句来定义一个函数。其形式如下：<br>\n",
    "```python\n",
    "lambda [arg1[,arg2...argn]] :expression\n",
    "```"
   ]
  },
  {
   "cell_type": "code",
   "execution_count": 147,
   "id": "ca41448c",
   "metadata": {},
   "outputs": [],
   "source": [
    "fun_sum3 = lambda a,b,c : a+b+c"
   ]
  },
  {
   "cell_type": "code",
   "execution_count": 148,
   "id": "e1328f9b",
   "metadata": {},
   "outputs": [
    {
     "data": {
      "text/plain": [
       "6"
      ]
     },
     "execution_count": 148,
     "metadata": {},
     "output_type": "execute_result"
    }
   ],
   "source": [
    "fun_sum3(1,2,3)"
   ]
  },
  {
   "cell_type": "markdown",
   "id": "5651becb",
   "metadata": {},
   "source": [
    "`map()`函数会根据提供的函数对指定序列做映射。第一个参数为function,第二个参数为迭代序列,返回迭代序列中的元素作为function的参数返回的函数值的新列表。其形式如下：<br>\n",
    "```python\n",
    "map(function,iterable,...)\n",
    "```"
   ]
  },
  {
   "cell_type": "code",
   "execution_count": 157,
   "id": "e1b64ebf",
   "metadata": {},
   "outputs": [
    {
     "data": {
      "text/plain": [
       "[1, 4, 9, 16, 25]"
      ]
     },
     "execution_count": 157,
     "metadata": {},
     "output_type": "execute_result"
    }
   ],
   "source": [
    "list(map(lambda x:x**2,[1,2,3,4,5]))"
   ]
  },
  {
   "cell_type": "code",
   "execution_count": 55,
   "id": "5d68de62-f863-4882-8d81-31c5a9041cb1",
   "metadata": {},
   "outputs": [
    {
     "data": {
      "text/plain": [
       "<map at 0x105044e80>"
      ]
     },
     "execution_count": 55,
     "metadata": {},
     "output_type": "execute_result"
    }
   ],
   "source": [
    "map(lambda x:x**2,[1,2,3,4,5])"
   ]
  },
  {
   "cell_type": "markdown",
   "id": "a9a6380c",
   "metadata": {},
   "source": [
    "`reduce()`函数会对参数序列中元素进行累积。用传给`reduce()`中的函数function(有两个参数)先对集合中的第一、二元素进行操作，得到的结果再与第三个用function运算，最后得到结果。其形式如下：<br>\n",
    "```python\n",
    "reduce(function,iterable)\n",
    "```"
   ]
  },
  {
   "cell_type": "code",
   "execution_count": 160,
   "id": "e658f1d5",
   "metadata": {},
   "outputs": [],
   "source": [
    "from functools import reduce"
   ]
  },
  {
   "cell_type": "code",
   "execution_count": 164,
   "id": "eb6c8082",
   "metadata": {},
   "outputs": [
    {
     "data": {
      "text/plain": [
       "55"
      ]
     },
     "execution_count": 164,
     "metadata": {},
     "output_type": "execute_result"
    }
   ],
   "source": [
    "reduce(lambda a,b: a+b,[1,2,3,4,5,6,7,8,9,10])"
   ]
  },
  {
   "cell_type": "markdown",
   "id": "d26aaec0-179d-4492-ad13-9c5237e1aee0",
   "metadata": {},
   "source": [
    "### Misc."
   ]
  },
  {
   "cell_type": "markdown",
   "id": "c7860826-f506-47b5-b4e4-cba148d99613",
   "metadata": {},
   "source": [
    "#### `*args` `**kwargs`:可以传入不固定变量数的函数"
   ]
  },
  {
   "cell_type": "code",
   "execution_count": 11,
   "id": "2dd318b4-07e1-4ef6-956a-57f6e6526dc0",
   "metadata": {
    "tags": []
   },
   "outputs": [],
   "source": [
    "def myfunc(a, *args, **kwargs):\n",
    "    \"\"\"\n",
    "    Py3里： **kwargs会将key-value对解析为字典传入，当然你也可以将字典用**解析传入。\n",
    "    \n",
    "    \"\"\"\n",
    "    if len(args)>0:\n",
    "        b = args[0] \n",
    "        \n",
    "    print(kwargs)\n",
    "    c = kwargs.get('c')\n",
    "    y =a+b+c\n",
    "    \n",
    "    print(a,b,c)\n",
    "    return y"
   ]
  },
  {
   "cell_type": "code",
   "execution_count": 12,
   "id": "b251b48a-279e-480c-8fa1-ca03330dd51f",
   "metadata": {},
   "outputs": [
    {
     "name": "stdout",
     "output_type": "stream",
     "text": [
      "{'b': 1, 'c': 3, 'd': 6}\n"
     ]
    },
    {
     "ename": "UnboundLocalError",
     "evalue": "local variable 'b' referenced before assignment",
     "output_type": "error",
     "traceback": [
      "\u001b[0;31m---------------------------------------------------------------------------\u001b[0m",
      "\u001b[0;31mUnboundLocalError\u001b[0m                         Traceback (most recent call last)",
      "Input \u001b[0;32mIn [12]\u001b[0m, in \u001b[0;36m<cell line: 1>\u001b[0;34m()\u001b[0m\n\u001b[0;32m----> 1\u001b[0m \u001b[43mmyfunc\u001b[49m\u001b[43m(\u001b[49m\u001b[38;5;241;43m1\u001b[39;49m\u001b[43m,\u001b[49m\u001b[43mb\u001b[49m\u001b[38;5;241;43m=\u001b[39;49m\u001b[38;5;241;43m1\u001b[39;49m\u001b[43m,\u001b[49m\u001b[43mc\u001b[49m\u001b[38;5;241;43m=\u001b[39;49m\u001b[38;5;241;43m3\u001b[39;49m\u001b[43m,\u001b[49m\u001b[43md\u001b[49m\u001b[38;5;241;43m=\u001b[39;49m\u001b[38;5;241;43m6\u001b[39;49m\u001b[43m)\u001b[49m\n",
      "Input \u001b[0;32mIn [11]\u001b[0m, in \u001b[0;36mmyfunc\u001b[0;34m(a, *args, **kwargs)\u001b[0m\n\u001b[1;32m      9\u001b[0m \u001b[38;5;28mprint\u001b[39m(kwargs)\n\u001b[1;32m     10\u001b[0m c \u001b[38;5;241m=\u001b[39m kwargs\u001b[38;5;241m.\u001b[39mget(\u001b[38;5;124m'\u001b[39m\u001b[38;5;124mc\u001b[39m\u001b[38;5;124m'\u001b[39m)\n\u001b[0;32m---> 11\u001b[0m y \u001b[38;5;241m=\u001b[39ma\u001b[38;5;241m+\u001b[39m\u001b[43mb\u001b[49m\u001b[38;5;241m+\u001b[39mc\n\u001b[1;32m     13\u001b[0m \u001b[38;5;28mprint\u001b[39m(a,b,c)\n\u001b[1;32m     14\u001b[0m \u001b[38;5;28;01mreturn\u001b[39;00m y\n",
      "\u001b[0;31mUnboundLocalError\u001b[0m: local variable 'b' referenced before assignment"
     ]
    }
   ],
   "source": [
    "myfunc(1,b=1,c=3,d=6)"
   ]
  },
  {
   "cell_type": "markdown",
   "id": "b9d467a7-6edd-427b-8217-a61933497b90",
   "metadata": {},
   "source": [
    "#### `assert`, `Exception`, `try... except...`"
   ]
  },
  {
   "cell_type": "markdown",
   "id": "12d996e2-cc15-45fc-ba94-7073209f3d50",
   "metadata": {},
   "source": [
    "--------"
   ]
  },
  {
   "cell_type": "markdown",
   "id": "74b8688c",
   "metadata": {
    "tags": []
   },
   "source": [
    "## Homework"
   ]
  },
  {
   "cell_type": "markdown",
   "id": "0535ef14-c34d-4dbb-8446-511311b7be64",
   "metadata": {},
   "source": [
    "**1.** 使用`conda`创建一个新的`env`，命名为`qm`, 并将其作为Jupyter的kernel之一使用；"
   ]
  },
  {
   "cell_type": "markdown",
   "id": "40e4e121-ce2b-4654-90ea-89c3a3cac8db",
   "metadata": {},
   "source": [
    "**2.** 使用`pip`或者`conda`为你的新`env`安装最新版本的`qutip`库；"
   ]
  },
  {
   "cell_type": "markdown",
   "id": "5f1d1169-dc3b-406d-9d9e-bb1505b61453",
   "metadata": {},
   "source": [
    "**3.** 写一个或者两个函数,用来生成斐波那契数列:    \n",
    "   -  实现生成指定长度的数列(`list`);    \n",
    "   -  指定位置的斐波那契数(`dict`): 传入位置指标，返回对应的斐波那契数列元素。"
   ]
  },
  {
   "cell_type": "code",
   "execution_count": 10,
   "id": "4af2518e-76d1-4e85-ab8c-85286e455741",
   "metadata": {},
   "outputs": [],
   "source": [
    "# Your codes here...\n",
    "def some_fun(n):\n",
    "    return n"
   ]
  },
  {
   "cell_type": "code",
   "execution_count": 14,
   "id": "ce2d2c61-2bc7-4dd0-ad5c-4038f5dcbe1e",
   "metadata": {},
   "outputs": [
    {
     "data": {
      "text/plain": [
       "(4, 3, 2)"
      ]
     },
     "execution_count": 14,
     "metadata": {},
     "output_type": "execute_result"
    }
   ],
   "source": [
    "tuple(map(lambda x: x+1 , [3,2,1]))"
   ]
  },
  {
   "cell_type": "code",
   "execution_count": null,
   "id": "b0d9de69-5432-4e56-a84a-0a7f1d58d8ce",
   "metadata": {},
   "outputs": [],
   "source": []
  },
  {
   "cell_type": "markdown",
   "id": "43e2c17c-bfe4-49d9-bdd7-9cf9894c3a98",
   "metadata": {},
   "source": [
    "**4.** 对上述斐波那契数列函数，使用`lambda`表达式，借助`map`封装为：传入自变量可以为`可迭代数据结构`的函数；\n"
   ]
  },
  {
   "cell_type": "code",
   "execution_count": 27,
   "id": "6ba77d8a",
   "metadata": {},
   "outputs": [],
   "source": [
    "# Your codes here...\n",
    "# 类似这样： f = lambda x: map(somefun, some_list)"
   ]
  },
  {
   "cell_type": "code",
   "execution_count": 3,
   "id": "1d35653e-bbb7-407c-8dc7-3264e08e9839",
   "metadata": {},
   "outputs": [
    {
     "name": "stdout",
     "output_type": "stream",
     "text": [
      "29.9 ns ± 0.23 ns per loop (mean ± std. dev. of 7 runs, 10,000,000 loops each)\n"
     ]
    }
   ],
   "source": [
    "%%timeit \n",
    "a=1\n",
    "b=2\n",
    "a,b = b, a"
   ]
  },
  {
   "cell_type": "code",
   "execution_count": 7,
   "id": "21756905-0981-4ef9-922c-3cbeeab6afdf",
   "metadata": {},
   "outputs": [],
   "source": [
    "l=\"Hello\""
   ]
  },
  {
   "cell_type": "code",
   "execution_count": 8,
   "id": "9e8d52d2-9da3-49b1-9893-1e01bc71bc66",
   "metadata": {},
   "outputs": [
    {
     "data": {
      "text/plain": [
       "'H'"
      ]
     },
     "execution_count": 8,
     "metadata": {},
     "output_type": "execute_result"
    }
   ],
   "source": [
    "l[0]"
   ]
  },
  {
   "cell_type": "code",
   "execution_count": 9,
   "id": "0bd931e6-656e-4aee-807e-2ed63a5db5fd",
   "metadata": {},
   "outputs": [
    {
     "name": "stdout",
     "output_type": "stream",
     "text": [
      "H\n",
      "e\n",
      "l\n",
      "l\n",
      "o\n"
     ]
    }
   ],
   "source": [
    "for i in l:\n",
    "    print(i)"
   ]
  },
  {
   "cell_type": "code",
   "execution_count": null,
   "id": "60345e7c-4009-4900-9db1-9fcc2064f18f",
   "metadata": {},
   "outputs": [],
   "source": []
  }
 ],
 "metadata": {
  "kernelspec": {
   "display_name": "Python 3 (ipykernel)",
   "language": "python",
   "name": "python3"
  },
  "language_info": {
   "codemirror_mode": {
    "name": "ipython",
    "version": 3
   },
   "file_extension": ".py",
   "mimetype": "text/x-python",
   "name": "python",
   "nbconvert_exporter": "python",
   "pygments_lexer": "ipython3",
   "version": "3.9.12"
  }
 },
 "nbformat": 4,
 "nbformat_minor": 5
}
